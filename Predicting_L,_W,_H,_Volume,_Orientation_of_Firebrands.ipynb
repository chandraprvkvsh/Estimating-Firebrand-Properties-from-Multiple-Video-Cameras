{
  "cells": [
    {
      "cell_type": "markdown",
      "metadata": {
        "id": "s-nmiFLgduvY"
      },
      "source": [
        "# **Estimating Firebrand Properties from Multiple Video Cameras**"
      ]
    },
    {
      "cell_type": "markdown",
      "source": [
        "This notebook contains Prediction of size of Firebrands, The other notebook contains Classification of shape of Firebrands."
      ],
      "metadata": {
        "id": "UojEOcNV8gBH"
      }
    },
    {
      "cell_type": "code",
      "execution_count": null,
      "metadata": {
        "id": "fzemYBu5wIJX"
      },
      "outputs": [],
      "source": [
        "#Importing basic libraries\n",
        "\n",
        "import numpy as np\n",
        "import os\n",
        "import shutil\n",
        "from pathlib import Path\n",
        "import pandas as pd\n",
        "import matplotlib.pyplot as plt\n",
        "import matplotlib.image as mpimg\n",
        "import seaborn as sns\n",
        "import cv2\n",
        "from sklearn.model_selection import train_test_split\n",
        "from sklearn.preprocessing import StandardScaler\n",
        "from sklearn.metrics import mean_squared_error as MSE\n",
        "from sklearn.metrics import confusion_matrix"
      ]
    },
    {
      "cell_type": "code",
      "execution_count": null,
      "metadata": {
        "id": "LUFCKHUyyDD-"
      },
      "outputs": [],
      "source": [
        "#Importing the deeplearning libraries\n",
        "\n",
        "import tensorflow as tf\n",
        "from tensorflow.keras.models import Sequential\n",
        "from tensorflow.keras.layers import Dense, Conv2D, MaxPool2D, Flatten, Input,Dropout\n",
        "from tensorflow.keras import regularizers\n",
        "from tensorflow.keras import optimizers\n",
        "from matplotlib import pyplot as plt\n",
        "from tensorflow.keras.utils import img_to_array\n",
        "from tensorflow.keras.utils import load_img\n",
        "from tensorflow.keras.preprocessing.image import ImageDataGenerator\n",
        "from PIL import Image\n",
        "from numpy import asarray\n",
        "from tensorflow.keras.models import Sequential\n",
        "from tensorflow.keras import layers\n",
        "from tensorflow.keras import models\n",
        "from tensorflow import keras\n",
        "from tensorflow.keras.models import Sequential, Model\n",
        "from tensorflow.keras.layers import Dense, Dropout, Flatten, Activation, Conv2D, MaxPooling2D\n",
        "from tensorflow.keras.optimizers import Adam, SGD\n",
        "from tensorflow.keras.callbacks import EarlyStopping"
      ]
    },
    {
      "cell_type": "code",
      "execution_count": null,
      "metadata": {
        "colab": {
          "base_uri": "https://localhost:8080/"
        },
        "id": "nljdxSS4ycIr",
        "outputId": "79dcec06-ff73-498d-e872-040ce1a1f24d"
      },
      "outputs": [
        {
          "output_type": "stream",
          "name": "stdout",
          "text": [
            "Drive already mounted at /content/drive; to attempt to forcibly remount, call drive.mount(\"/content/drive\", force_remount=True).\n"
          ]
        }
      ],
      "source": [
        "#Mounting GoogleDrive to fetch dataset easily\n",
        "\n",
        "from google.colab import drive\n",
        "drive.mount('/content/drive')"
      ]
    },
    {
      "cell_type": "code",
      "execution_count": null,
      "metadata": {
        "id": "yip46SPg-sTY"
      },
      "outputs": [],
      "source": [
        "# Defining all the functions that are needed later on to do certain things\n",
        "\n",
        "# Function to create volume and surface area of fire bands from lenght width and height\n",
        "\n",
        "def vol_area(y_train):\n",
        "  \"\"\"\n",
        "  input: takes y which contain parameter like L,W,H and Object shape\n",
        "  process: calculates the volume and surface area based on the object shape\n",
        "  output: gives volumes and Surface areas for all the data points in y in form of pandas dataframe\n",
        "  \"\"\"\n",
        "  features=['volume','surfacearea']\n",
        "  y_train_features=[]\n",
        "  for i in range(len(y_train['shape'])):\n",
        "    l=np.array(y_train.L)[i]\n",
        "    w=np.array(y_train.W)[i]\n",
        "    h=np.array(y_train.H)[i]\n",
        "    if np.array(y_train['shape'])[i]=='cub':\n",
        "      volume=l*w*h\n",
        "      area=6*l*w\n",
        "    elif np.array(y_train['shape'])[i]=='sph':\n",
        "      volume=4/3*3.14*l*w*h/8\n",
        "      area=4*3.14*l*w/4\n",
        "    else:\n",
        "      volume=3.14*l*w*h\n",
        "      area=2*3.14*h*(w+h)\n",
        "    y_train_features.append([round(volume), round(area)])\n",
        "  return pd.DataFrame(y_train_features,columns=features)\n",
        "\n",
        "import matplotlib.pyplot as plt\n",
        "\n",
        "# Plotting\n",
        "# We have used the helper function that was used during session exercise to plot history of regression model\n",
        "\n",
        "def plot_history(history, name):\n",
        "  \"\"\"\n",
        "  input: takes history of the training of Regression\n",
        "  process: plots the mse and loss against the epochs\n",
        "  output: None\n",
        "  \"\"\"\n",
        "  with plt(scale=0.2):\n",
        "    fig, ax = plt.subplots(1,2, figsize=(12,6))\n",
        "    for i, metric in enumerate(['loss', 'mse']): \n",
        "        ax[i].plot(history.history[metric], label='Train', color='r',linewidth=3)\n",
        "        ax[i].plot(history.history[f'val_{metric}'], label='Validation', color='g',linewidth=3)\n",
        "        if metric == 'mse': \n",
        "          # ax[i].axhline(0.5, color='#8d021f', ls='--', label='Trivial accuracy')\n",
        "          ax[i].set_ylabel(\"MSE\", fontsize=14)\n",
        "        else:\n",
        "          ax[i].set_ylabel(\"Loss\", fontsize=14)\n",
        "        ax[i].set_xlabel('Epoch', fontsize=14)\n",
        "\n",
        "    plt.suptitle(f'{name} Training', y=1.05, fontsize=16)\n",
        "    plt.legend(loc='best')\n",
        "    plt.tight_layout()\n",
        "\n",
        "# We have used the Helper function that was used during session Exercise to plot history##\n",
        "\n",
        "def plot_historyc(history, name):\n",
        "  \"\"\"\n",
        "  input: takes history of the training of Classification\n",
        "  process: plots the Accuracy and loss against the epochs\n",
        "  output: None\n",
        "  \"\"\"\n",
        "  with plt(scale=0.2):\n",
        "    fig, ax = plt.subplots(1,2, figsize=(12,6))\n",
        "    for i, metric in enumerate(['loss', 'accuracy']): \n",
        "        ax[i].plot(history.history[metric], label='Train', color='r',linewidth=3)\n",
        "        ax[i].plot(history.history[f'val_{metric}'], label='Validation', color='g',linewidth=3)\n",
        "        if metric == 'accuracy': \n",
        "          # ax[i].axhline(0.5, color='#8d021f', ls='--', label='Trivial accuracy')\n",
        "          ax[i].set_ylabel(\"Accuracy\", fontsize=14)\n",
        "        else:\n",
        "          ax[i].set_ylabel(\"Loss\", fontsize=14)\n",
        "        ax[i].set_xlabel('Epoch', fontsize=14)\n",
        "\n",
        "    plt.suptitle(f'{name} Training', y=1.05, fontsize=16)\n",
        "    plt.legend(loc='best')\n",
        "    plt.tight_layout()\n",
        "\n",
        "# Function to calculate Mean Squared errors of Response variables\n",
        "\n",
        "def meansquareerror(ytrue,ypred):\n",
        "  \"\"\"\n",
        "  input: Takes ytrue and prediction on xtrue\n",
        "  process: calculates the MSE of different parameter like L, W, H, volume, Surfacearea, a, b,c'\n",
        "  outpur: Gives mse of the parameter in the form of dictionary\n",
        "  \"\"\"\n",
        "  mse={}\n",
        "  mse['L']=MSE(ytrue.L,ypred.L)\n",
        "  mse['W']=MSE(ytrue.W,ypred.W)\n",
        "  mse['H']=MSE(ytrue.H,ypred.H)\n",
        "  mse['volume']=MSE(ytrue.volume, ypred.volume)\n",
        "  mse['surfacearea']=MSE(ytrue.surfacearea, ypred.surfacearea)\n",
        "  mse['a']=MSE(ytrue.a,ypred.a)\n",
        "  mse['b']=MSE(ytrue.b,ypred.b)\n",
        "  mse['c']=MSE(ytrue.c,ypred.c)\n",
        "  return mse\n",
        "\n",
        "# For plotting mse values of respective variables across all models\n",
        "\n",
        "def plotmse(inputvar,label):\n",
        "  data={\"Baseline Model 1 & 2\":mseA[inputvar], \"Model 3\":mseB[inputvar], \"Model 4\":mseC[inputvar]}\n",
        "  names = list(data.keys())\n",
        "  values = list(data.values())\n",
        "  fig = plt.figure(figsize = (10, 5))\n",
        "  plt.bar(range(len(data)), values, tick_label=names, width = 0.4)\n",
        "  plt.xlabel(\"Model Name\")\n",
        "  plt.ylabel(\"MSE Values\")\n",
        "  plt.title(\"MSEs for \"+ label)\n",
        "  plt.show()\n",
        "\n",
        "# Function to plot comparison of true and predicted values\n",
        "\n",
        "def plotcomparison(inputvar,label):\n",
        "  data={\"Predicted Value\":y_pred_randomsample[inputvar], \"True Value\":y_test_randomsample[inputvar]}\n",
        "  names = list(data.keys())\n",
        "  values = list(data.values())\n",
        "  fig = plt.figure(figsize = (10, 5))\n",
        "  plt.bar(range(len(data)), values, tick_label=names, width = 0.4)\n",
        "  plt.xlabel(\"Value Type\")\n",
        "  plt.ylabel(label + \" Values\")\n",
        "  plt.title(\"Comparison of \"+label)\n",
        "  plt.show()"
      ]
    },
    {
      "cell_type": "markdown",
      "metadata": {
        "id": "V3RWCaI0LeTU"
      },
      "source": [
        "# **Loading the Data**"
      ]
    },
    {
      "cell_type": "markdown",
      "metadata": {
        "id": "nSp7UrB5Q1LM"
      },
      "source": [
        "Filename – naming convention:\n",
        "“synth_cyl_L030_W020_H020_X+0785_Y+1021_Z0409_a252_b204_c088_D1_2408_D2_1750_D3_2483_D4_1802.png”\n",
        "\n",
        "synth_cyl: Shape of the firebrand – Cylindrical\n",
        "\n",
        "L030: The length of the cylinder is 30 mm.\n",
        "\n",
        "W020: The width of the cylinder is 20 mm.\n",
        "\n",
        "H020: The heigh of the cylinder is 20 mm.\n",
        "\n",
        "X+0785_Y+1021_Z-0409: The X location of the firebrand is 785 mm, Y location of the firebrand is 1021 mm, and the Z location of the firebrand is 409 mm.\n",
        "\n",
        "a252_b204_c088: 3-D orientation / angle [7] of the firebrand in degrees.\n",
        "\n",
        "D1_2408: Distance of the firebrand from Camera # 1 is 2408 mm.\n",
        "\n",
        "D2_1750: Distance of the firebrand from Camera # 2 is 1750 mm.\n",
        "\n",
        "D3_2483: Distance of the firebrand from Camera # 3 is 2483 mm.\n",
        "\n",
        "D4_1802: Distance of the firebrand from Camera # 4 is 1802 mm."
      ]
    },
    {
      "cell_type": "code",
      "source": [
        "df_train=pd.read_csv('df_train.csv')\n",
        "df_val=pd.read_csv('df_val.csv')\n",
        "df_test=pd.read_csv('df_test.csv')"
      ],
      "metadata": {
        "id": "nCiTh3UCwBvc"
      },
      "execution_count": null,
      "outputs": []
    },
    {
      "cell_type": "code",
      "source": [
        "df_train=pd.read_csv('df_train.csv')\n",
        "df_val=pd.read_csv('df_val.csv')\n",
        "df_test=pd.read_csv('df_test.csv')\n",
        "print('Train df shape:', df_train.shape)\n",
        "print('Validation df shape:', df_val.shape)\n",
        "print('Test df shape:', df_test.shape) # test also include additional predicted label column predicted from vgg16 classifier"
      ],
      "metadata": {
        "colab": {
          "base_uri": "https://localhost:8080/"
        },
        "id": "dHv19wUfRDG1",
        "outputId": "293d2ff1-8369-4c27-b1b2-3c108e34d0ab"
      },
      "execution_count": null,
      "outputs": [
        {
          "output_type": "stream",
          "name": "stdout",
          "text": [
            "Train df shape: (5164, 15)\n",
            "Validation df shape: (645, 15)\n",
            "Test df shape: (646, 16)\n"
          ]
        }
      ]
    },
    {
      "cell_type": "markdown",
      "metadata": {
        "id": "sC-D3KtZdp0K"
      },
      "source": [
        "### **Final Classification Model Results**"
      ]
    },
    {
      "cell_type": "markdown",
      "metadata": {
        "id": "JnXSuG7iL2L7"
      },
      "source": [
        "We can see from the following that the loading of data is such that there are equal proportions of cylinder, cubes and Sphere data points in Train, Validation, Test data set"
      ]
    },
    {
      "cell_type": "code",
      "execution_count": null,
      "metadata": {
        "colab": {
          "base_uri": "https://localhost:8080/"
        },
        "id": "yD9zIZrOCmeB",
        "outputId": "f344451a-4ec2-4319-9d36-cdee23accaf4"
      },
      "outputs": [
        {
          "output_type": "stream",
          "name": "stdout",
          "text": [
            "cyl    2000\n",
            "cub    1600\n",
            "sph    1564\n",
            "Name: shape, dtype: int64\n",
            "cyl    250\n",
            "cub    200\n",
            "sph    195\n",
            "Name: shape, dtype: int64\n",
            "cyl    250\n",
            "cub    200\n",
            "sph    196\n",
            "Name: shape, dtype: int64\n"
          ]
        }
      ],
      "source": [
        "print(df_train['shape'].value_counts())\n",
        "print(df_val['shape'].value_counts())\n",
        "print(df_test['shape'].value_counts())"
      ]
    },
    {
      "cell_type": "code",
      "source": [
        "y_pred=df_test['predicted_shape']\n",
        "y_test=df_test['shape']\n",
        "y_pred_shape=pd.DataFrame(y_pred)\n",
        "y_pred_shape.rename(columns = {'predicted_shape':'shape'}, inplace = True)\n",
        "y_test_shape=pd.DataFrame(y_test)"
      ],
      "metadata": {
        "id": "dMoff2TZxf4D"
      },
      "execution_count": null,
      "outputs": []
    },
    {
      "cell_type": "markdown",
      "metadata": {
        "id": "2Zh8XMiqdh0A"
      },
      "source": [
        "### **Regression Modelling**"
      ]
    },
    {
      "cell_type": "markdown",
      "metadata": {
        "id": "MIIM3HClH0v6"
      },
      "source": [
        "In this Section,we use the above classification model to predict the object shape from the image. We address problem of finding Length(L), Width(W), Height(H), orientation a, b, c, (roll, pitch, yaw), volume, surface area, energy and propensity. This is done by using CNN regression.\n",
        "This done in three models namely ModelA, ModelB, ModelC"
      ]
    },
    {
      "cell_type": "markdown",
      "metadata": {
        "id": "POXpylkMPucV"
      },
      "source": [
        "## *ModelA*"
      ]
    },
    {
      "cell_type": "markdown",
      "metadata": {
        "id": "CXlxfeqcPzPg"
      },
      "source": [
        "ModelA: it consist of 2 submodels namely model1 and model2. These are Baseline models\n",
        "\n",
        "*   model1 is CNN regression model take inputs as the images and response variable as Length(L), Width(W), Height(H) and used to predict them on test data. We can calculate Volume, Surface area from these predicted variables. \n",
        "\n",
        "*   model2 is CNN regression model take inputs as the images and reponse variable as  Orientation a, b ,c and used to predict them on test data"
      ]
    },
    {
      "cell_type": "code",
      "source": [
        "datagen = ImageDataGenerator(\n",
        "    rescale=1./255)"
      ],
      "metadata": {
        "id": "o8RC_iB-01Zs"
      },
      "execution_count": null,
      "outputs": []
    },
    {
      "cell_type": "code",
      "source": [
        "train_set_reg1 = datagen.flow_from_dataframe(\n",
        "        df_train,\n",
        "        x_col='img_path',\n",
        "        y_col=['L','W','H'],\n",
        "        target_size=(224, 224),\n",
        "        class_mode='raw',\n",
        "        batch_size=64)\n",
        "\n",
        "val_set_reg1 = datagen.flow_from_dataframe(\n",
        "        df_val,\n",
        "        x_col='img_path',\n",
        "        y_col=['L','W','H'],\n",
        "        target_size=(224, 224),\n",
        "        class_mode='raw',\n",
        "        batch_size=64)\n",
        "\n",
        "test_set_reg1 = datagen.flow_from_dataframe(\n",
        "        df_test,\n",
        "        x_col='img_path',\n",
        "        y_col=['L','W','H'],\n",
        "        target_size=(224, 224),\n",
        "        batch_size=64,\n",
        "        class_mode='raw',\n",
        "        shuffle = False)"
      ],
      "metadata": {
        "id": "BGWzTnO_er_d",
        "colab": {
          "base_uri": "https://localhost:8080/"
        },
        "outputId": "c4556ca5-29c7-41a1-d14e-a38eee992c49"
      },
      "execution_count": null,
      "outputs": [
        {
          "output_type": "stream",
          "name": "stdout",
          "text": [
            "Found 5164 validated image filenames.\n",
            "Found 645 validated image filenames.\n",
            "Found 646 validated image filenames.\n"
          ]
        }
      ]
    },
    {
      "cell_type": "code",
      "execution_count": null,
      "metadata": {
        "colab": {
          "base_uri": "https://localhost:8080/"
        },
        "id": "zPVtCLT0FR0c",
        "outputId": "519370d2-73d7-4023-ac88-8555fed69267"
      },
      "outputs": [
        {
          "output_type": "stream",
          "name": "stdout",
          "text": [
            "Model: \"sequential\"\n",
            "_________________________________________________________________\n",
            " Layer (type)                Output Shape              Param #   \n",
            "=================================================================\n",
            " conv2d (Conv2D)             (None, 224, 224, 32)      896       \n",
            "                                                                 \n",
            " max_pooling2d (MaxPooling2D  (None, 112, 112, 32)     0         \n",
            " )                                                               \n",
            "                                                                 \n",
            " conv2d_1 (Conv2D)           (None, 112, 112, 64)      18496     \n",
            "                                                                 \n",
            " max_pooling2d_1 (MaxPooling  (None, 56, 56, 64)       0         \n",
            " 2D)                                                             \n",
            "                                                                 \n",
            " conv2d_2 (Conv2D)           (None, 56, 56, 128)       73856     \n",
            "                                                                 \n",
            " max_pooling2d_2 (MaxPooling  (None, 28, 28, 128)      0         \n",
            " 2D)                                                             \n",
            "                                                                 \n",
            " conv2d_3 (Conv2D)           (None, 28, 28, 256)       295168    \n",
            "                                                                 \n",
            " max_pooling2d_3 (MaxPooling  (None, 14, 14, 256)      0         \n",
            " 2D)                                                             \n",
            "                                                                 \n",
            " flatten (Flatten)           (None, 50176)             0         \n",
            "                                                                 \n",
            " dense (Dense)               (None, 64)                3211328   \n",
            "                                                                 \n",
            " dense_1 (Dense)             (None, 3)                 195       \n",
            "                                                                 \n",
            "=================================================================\n",
            "Total params: 3,599,939\n",
            "Trainable params: 3,599,939\n",
            "Non-trainable params: 0\n",
            "_________________________________________________________________\n"
          ]
        }
      ],
      "source": [
        "# Baseline 1 for prediting L, W, H\n",
        "\n",
        "batch_size = 64\n",
        "model1 = Sequential()\n",
        "model1.add(Conv2D(32,(3,3),padding='same',input_shape=(224,224,3),activation='relu'))\n",
        "model1.add(MaxPool2D(2,2))\n",
        "model1.add(Conv2D(64,(3,3),padding='same',activation='relu'))\n",
        "model1.add(MaxPool2D(2,2))\n",
        "model1.add(Conv2D(128,(3,3),padding='same',activation='relu'))\n",
        "model1.add(MaxPool2D(2,2))\n",
        "model1.add(Conv2D(256,(3,3),padding='same',activation='relu'))\n",
        "model1.add(MaxPool2D(2,2))\n",
        "model1.add(Flatten())\n",
        "model1.add(Dense(64,activation='relu'))\n",
        "model1.add(Dense(3,activation='linear'))\n",
        "model1.summary()"
      ]
    },
    {
      "cell_type": "code",
      "source": [
        "#Defining early stopping for regularisation\n",
        "\n",
        "es=EarlyStopping(restore_best_weights=True, monitor='val_loss', patience=20, verbose=1, mode='min')"
      ],
      "metadata": {
        "id": "OFimo_DL1cLR"
      },
      "execution_count": null,
      "outputs": []
    },
    {
      "cell_type": "code",
      "execution_count": null,
      "metadata": {
        "id": "BSoK0YEhGa5g",
        "colab": {
          "base_uri": "https://localhost:8080/"
        },
        "outputId": "15cadab0-60a6-4025-ce85-c9772a7c38a1"
      },
      "outputs": [
        {
          "output_type": "stream",
          "name": "stdout",
          "text": [
            "Epoch 1/100\n",
            "81/81 - 1679s - loss: 207.1181 - mse: 207.1181 - val_loss: 59.2026 - val_mse: 59.2026 - 1679s/epoch - 21s/step\n",
            "Epoch 2/100\n",
            "81/81 - 15s - loss: 59.0009 - mse: 59.0009 - val_loss: 57.3683 - val_mse: 57.3683 - 15s/epoch - 185ms/step\n",
            "Epoch 3/100\n",
            "81/81 - 13s - loss: 57.4681 - mse: 57.4681 - val_loss: 58.2294 - val_mse: 58.2294 - 13s/epoch - 154ms/step\n",
            "Epoch 4/100\n",
            "81/81 - 13s - loss: 56.6530 - mse: 56.6530 - val_loss: 54.9831 - val_mse: 54.9831 - 13s/epoch - 155ms/step\n",
            "Epoch 5/100\n",
            "81/81 - 12s - loss: 55.2169 - mse: 55.2169 - val_loss: 55.8489 - val_mse: 55.8489 - 12s/epoch - 154ms/step\n",
            "Epoch 6/100\n",
            "81/81 - 12s - loss: 53.0286 - mse: 53.0286 - val_loss: 49.9080 - val_mse: 49.9080 - 12s/epoch - 152ms/step\n",
            "Epoch 7/100\n",
            "81/81 - 14s - loss: 49.6854 - mse: 49.6854 - val_loss: 46.4859 - val_mse: 46.4859 - 14s/epoch - 170ms/step\n",
            "Epoch 8/100\n",
            "81/81 - 12s - loss: 46.7349 - mse: 46.7349 - val_loss: 45.3231 - val_mse: 45.3231 - 12s/epoch - 154ms/step\n",
            "Epoch 9/100\n",
            "81/81 - 13s - loss: 46.3526 - mse: 46.3526 - val_loss: 45.2361 - val_mse: 45.2361 - 13s/epoch - 156ms/step\n",
            "Epoch 10/100\n",
            "81/81 - 13s - loss: 44.2940 - mse: 44.2940 - val_loss: 42.4865 - val_mse: 42.4865 - 13s/epoch - 157ms/step\n",
            "Epoch 11/100\n",
            "81/81 - 13s - loss: 43.9263 - mse: 43.9263 - val_loss: 42.3490 - val_mse: 42.3490 - 13s/epoch - 157ms/step\n",
            "Epoch 12/100\n",
            "81/81 - 13s - loss: 43.1347 - mse: 43.1347 - val_loss: 41.7634 - val_mse: 41.7634 - 13s/epoch - 154ms/step\n",
            "Epoch 13/100\n",
            "81/81 - 12s - loss: 42.6044 - mse: 42.6044 - val_loss: 41.7919 - val_mse: 41.7919 - 12s/epoch - 154ms/step\n",
            "Epoch 14/100\n",
            "81/81 - 12s - loss: 42.3372 - mse: 42.3372 - val_loss: 41.2317 - val_mse: 41.2317 - 12s/epoch - 154ms/step\n",
            "Epoch 15/100\n",
            "81/81 - 12s - loss: 41.7480 - mse: 41.7480 - val_loss: 40.8269 - val_mse: 40.8269 - 12s/epoch - 152ms/step\n",
            "Epoch 16/100\n",
            "81/81 - 13s - loss: 41.0965 - mse: 41.0965 - val_loss: 40.6870 - val_mse: 40.6870 - 13s/epoch - 164ms/step\n",
            "Epoch 17/100\n",
            "81/81 - 12s - loss: 40.5601 - mse: 40.5601 - val_loss: 40.4943 - val_mse: 40.4943 - 12s/epoch - 153ms/step\n",
            "Epoch 18/100\n",
            "81/81 - 12s - loss: 40.9756 - mse: 40.9756 - val_loss: 40.5196 - val_mse: 40.5196 - 12s/epoch - 151ms/step\n",
            "Epoch 19/100\n",
            "81/81 - 12s - loss: 39.2911 - mse: 39.2911 - val_loss: 41.8679 - val_mse: 41.8679 - 12s/epoch - 150ms/step\n",
            "Epoch 20/100\n",
            "81/81 - 12s - loss: 40.7283 - mse: 40.7283 - val_loss: 43.6381 - val_mse: 43.6381 - 12s/epoch - 151ms/step\n",
            "Epoch 21/100\n",
            "81/81 - 12s - loss: 39.2569 - mse: 39.2569 - val_loss: 40.9667 - val_mse: 40.9667 - 12s/epoch - 152ms/step\n",
            "Epoch 22/100\n",
            "81/81 - 12s - loss: 38.7763 - mse: 38.7763 - val_loss: 40.9092 - val_mse: 40.9092 - 12s/epoch - 153ms/step\n",
            "Epoch 23/100\n",
            "81/81 - 12s - loss: 38.0549 - mse: 38.0549 - val_loss: 39.6514 - val_mse: 39.6514 - 12s/epoch - 150ms/step\n",
            "Epoch 24/100\n",
            "81/81 - 12s - loss: 37.9755 - mse: 37.9755 - val_loss: 39.7500 - val_mse: 39.7500 - 12s/epoch - 152ms/step\n",
            "Epoch 25/100\n",
            "81/81 - 13s - loss: 37.6737 - mse: 37.6737 - val_loss: 39.7221 - val_mse: 39.7221 - 13s/epoch - 161ms/step\n",
            "Epoch 26/100\n",
            "81/81 - 12s - loss: 36.8909 - mse: 36.8909 - val_loss: 39.2633 - val_mse: 39.2633 - 12s/epoch - 152ms/step\n",
            "Epoch 27/100\n",
            "81/81 - 12s - loss: 37.4120 - mse: 37.4120 - val_loss: 39.1754 - val_mse: 39.1754 - 12s/epoch - 150ms/step\n",
            "Epoch 28/100\n",
            "81/81 - 12s - loss: 36.3300 - mse: 36.3300 - val_loss: 40.7115 - val_mse: 40.7115 - 12s/epoch - 150ms/step\n",
            "Epoch 29/100\n",
            "81/81 - 12s - loss: 36.1917 - mse: 36.1917 - val_loss: 40.7007 - val_mse: 40.7007 - 12s/epoch - 150ms/step\n",
            "Epoch 30/100\n",
            "81/81 - 12s - loss: 36.0195 - mse: 36.0195 - val_loss: 39.2170 - val_mse: 39.2170 - 12s/epoch - 148ms/step\n",
            "Epoch 31/100\n",
            "81/81 - 12s - loss: 35.4772 - mse: 35.4772 - val_loss: 40.4080 - val_mse: 40.4080 - 12s/epoch - 150ms/step\n",
            "Epoch 32/100\n",
            "81/81 - 12s - loss: 34.6634 - mse: 34.6634 - val_loss: 39.2641 - val_mse: 39.2641 - 12s/epoch - 148ms/step\n",
            "Epoch 33/100\n",
            "81/81 - 12s - loss: 34.1435 - mse: 34.1435 - val_loss: 40.6595 - val_mse: 40.6595 - 12s/epoch - 150ms/step\n",
            "Epoch 34/100\n",
            "81/81 - 12s - loss: 34.1853 - mse: 34.1853 - val_loss: 38.6874 - val_mse: 38.6874 - 12s/epoch - 151ms/step\n",
            "Epoch 35/100\n",
            "81/81 - 12s - loss: 33.8193 - mse: 33.8193 - val_loss: 38.8989 - val_mse: 38.8989 - 12s/epoch - 150ms/step\n",
            "Epoch 36/100\n",
            "81/81 - 12s - loss: 33.2615 - mse: 33.2615 - val_loss: 39.4594 - val_mse: 39.4594 - 12s/epoch - 149ms/step\n",
            "Epoch 37/100\n",
            "81/81 - 12s - loss: 33.1860 - mse: 33.1860 - val_loss: 39.3680 - val_mse: 39.3680 - 12s/epoch - 149ms/step\n",
            "Epoch 38/100\n",
            "81/81 - 12s - loss: 33.4230 - mse: 33.4230 - val_loss: 38.6221 - val_mse: 38.6221 - 12s/epoch - 150ms/step\n",
            "Epoch 39/100\n",
            "81/81 - 12s - loss: 31.8410 - mse: 31.8410 - val_loss: 38.6833 - val_mse: 38.6833 - 12s/epoch - 150ms/step\n",
            "Epoch 40/100\n",
            "81/81 - 12s - loss: 31.6753 - mse: 31.6753 - val_loss: 39.1785 - val_mse: 39.1785 - 12s/epoch - 151ms/step\n",
            "Epoch 41/100\n",
            "81/81 - 12s - loss: 31.1230 - mse: 31.1230 - val_loss: 38.4532 - val_mse: 38.4532 - 12s/epoch - 149ms/step\n",
            "Epoch 42/100\n",
            "81/81 - 12s - loss: 31.5423 - mse: 31.5423 - val_loss: 40.6101 - val_mse: 40.6101 - 12s/epoch - 148ms/step\n",
            "Epoch 43/100\n",
            "81/81 - 13s - loss: 30.1723 - mse: 30.1723 - val_loss: 38.5945 - val_mse: 38.5945 - 13s/epoch - 156ms/step\n",
            "Epoch 44/100\n",
            "81/81 - 12s - loss: 29.8490 - mse: 29.8490 - val_loss: 38.5943 - val_mse: 38.5943 - 12s/epoch - 148ms/step\n",
            "Epoch 45/100\n",
            "81/81 - 12s - loss: 29.4259 - mse: 29.4259 - val_loss: 38.9701 - val_mse: 38.9701 - 12s/epoch - 150ms/step\n",
            "Epoch 46/100\n",
            "81/81 - 12s - loss: 28.9622 - mse: 28.9622 - val_loss: 38.9637 - val_mse: 38.9637 - 12s/epoch - 148ms/step\n",
            "Epoch 47/100\n",
            "81/81 - 12s - loss: 28.5372 - mse: 28.5372 - val_loss: 38.8850 - val_mse: 38.8850 - 12s/epoch - 149ms/step\n",
            "Epoch 48/100\n",
            "81/81 - 12s - loss: 27.6083 - mse: 27.6083 - val_loss: 40.7699 - val_mse: 40.7699 - 12s/epoch - 149ms/step\n",
            "Epoch 49/100\n",
            "81/81 - 12s - loss: 27.6771 - mse: 27.6771 - val_loss: 42.3284 - val_mse: 42.3284 - 12s/epoch - 148ms/step\n",
            "Epoch 50/100\n",
            "81/81 - 12s - loss: 26.7249 - mse: 26.7249 - val_loss: 39.3515 - val_mse: 39.3515 - 12s/epoch - 149ms/step\n",
            "Epoch 51/100\n",
            "81/81 - 12s - loss: 26.0840 - mse: 26.0840 - val_loss: 39.1513 - val_mse: 39.1513 - 12s/epoch - 149ms/step\n",
            "Epoch 52/100\n",
            "81/81 - 13s - loss: 25.6350 - mse: 25.6350 - val_loss: 39.9958 - val_mse: 39.9958 - 13s/epoch - 161ms/step\n",
            "Epoch 53/100\n",
            "81/81 - 12s - loss: 25.0192 - mse: 25.0192 - val_loss: 40.1769 - val_mse: 40.1769 - 12s/epoch - 149ms/step\n",
            "Epoch 54/100\n",
            "81/81 - 12s - loss: 24.6094 - mse: 24.6094 - val_loss: 39.3166 - val_mse: 39.3166 - 12s/epoch - 148ms/step\n",
            "Epoch 55/100\n",
            "81/81 - 12s - loss: 23.6939 - mse: 23.6939 - val_loss: 41.6366 - val_mse: 41.6366 - 12s/epoch - 150ms/step\n",
            "Epoch 56/100\n",
            "81/81 - 12s - loss: 24.0458 - mse: 24.0458 - val_loss: 39.4718 - val_mse: 39.4718 - 12s/epoch - 148ms/step\n",
            "Epoch 57/100\n",
            "81/81 - 12s - loss: 22.9053 - mse: 22.9053 - val_loss: 40.1659 - val_mse: 40.1659 - 12s/epoch - 147ms/step\n",
            "Epoch 58/100\n",
            "81/81 - 12s - loss: 22.2839 - mse: 22.2839 - val_loss: 39.8896 - val_mse: 39.8896 - 12s/epoch - 148ms/step\n",
            "Epoch 59/100\n",
            "81/81 - 12s - loss: 21.7480 - mse: 21.7480 - val_loss: 40.2666 - val_mse: 40.2666 - 12s/epoch - 150ms/step\n",
            "Epoch 60/100\n",
            "81/81 - 12s - loss: 21.2505 - mse: 21.2505 - val_loss: 40.4085 - val_mse: 40.4085 - 12s/epoch - 152ms/step\n",
            "Epoch 61/100\n",
            "Restoring model weights from the end of the best epoch: 41.\n",
            "81/81 - 12s - loss: 20.6546 - mse: 20.6546 - val_loss: 39.7672 - val_mse: 39.7672 - 12s/epoch - 149ms/step\n",
            "Epoch 61: early stopping\n"
          ]
        }
      ],
      "source": [
        "#Compiling Baseline 1 for prediting L, W, H \n",
        "\n",
        "model1.compile(loss='mse',metrics=['mse'],optimizer=optimizers.Adam(learning_rate=1e-4))\n",
        "history1= model1.fit(train_set_reg1,epochs=100,verbose=2,validation_data=val_set_reg1,batch_size=batch_size, callbacks=[es])"
      ]
    },
    {
      "cell_type": "code",
      "execution_count": null,
      "metadata": {
        "id": "a0e22M_dSOyn",
        "colab": {
          "base_uri": "https://localhost:8080/",
          "height": 370
        },
        "outputId": "ca3a3ac7-29d1-41fd-ad0c-b751278faa08"
      },
      "outputs": [
        {
          "output_type": "display_data",
          "data": {
            "text/plain": [
              "<Figure size 504x360 with 1 Axes>"
            ],
            "image/png": "[encoded data removed]"
          },
          "metadata": {
            "needs_background": "light"
          }
        }
      ],
      "source": [
        "#Plotting the performance of Baseline Model 1 for prediting L, W, H\n",
        "fig, ax = plt.subplots(1,1,figsize=(7,5))\n",
        "ax.plot(history1.history['mse'])\n",
        "ax.plot(history1.history['val_mse'])\n",
        "ax.set_title('Model MSE')\n",
        "ax.set_ylabel('MSE')\n",
        "ax.set_xlabel('Epoch')\n",
        "ax.legend(['train', 'val'], loc='best')\n",
        "fig.suptitle('MSE Loss of Model1')\n",
        "plt.show()"
      ]
    },
    {
      "cell_type": "code",
      "execution_count": null,
      "metadata": {
        "id": "yBfqLIVJGa1o",
        "colab": {
          "base_uri": "https://localhost:8080/"
        },
        "outputId": "054ba735-f739-4aed-ed31-d14bd69fd157"
      },
      "outputs": [
        {
          "output_type": "stream",
          "name": "stdout",
          "text": [
            "11/11 [==============================] - 169s 17s/step\n"
          ]
        }
      ],
      "source": [
        "#Making predictions based on Baseline Model 1 and calculating the volume and surface area from L,W,H\n",
        "\n",
        "# y_pred1=model1.predict(x_test)\n",
        "# y_pred1=pd.DataFrame(y_pred1, columns=['L','W','H'])\n",
        "y_pred1=model1.predict(test_set_reg1)\n",
        "y_pred1 = pd.DataFrame(y_pred1,columns=['L','W','H'])\n",
        "y_test1=df_test[['L','W','H']]\n",
        "\n",
        "y_pred1=pd.concat([y_pred_shape,y_pred1],axis=1)\n",
        "y_test1=pd.concat([y_test_shape,y_test1],axis=1)\n",
        "\n",
        "y_pred1_features=vol_area(y_pred1)\n",
        "y_test1_features=vol_area(y_test1)"
      ]
    },
    {
      "cell_type": "code",
      "execution_count": null,
      "metadata": {
        "id": "kB--VXltGazK",
        "colab": {
          "base_uri": "https://localhost:8080/"
        },
        "outputId": "3bcb362d-fbae-48d9-cd6c-f2af3f142194"
      },
      "outputs": [
        {
          "output_type": "stream",
          "name": "stdout",
          "text": [
            "Model: \"sequential_1\"\n",
            "_________________________________________________________________\n",
            " Layer (type)                Output Shape              Param #   \n",
            "=================================================================\n",
            " conv2d_4 (Conv2D)           (None, 224, 224, 32)      896       \n",
            "                                                                 \n",
            " max_pooling2d_4 (MaxPooling  (None, 112, 112, 32)     0         \n",
            " 2D)                                                             \n",
            "                                                                 \n",
            " conv2d_5 (Conv2D)           (None, 112, 112, 64)      18496     \n",
            "                                                                 \n",
            " max_pooling2d_5 (MaxPooling  (None, 56, 56, 64)       0         \n",
            " 2D)                                                             \n",
            "                                                                 \n",
            " conv2d_6 (Conv2D)           (None, 56, 56, 128)       73856     \n",
            "                                                                 \n",
            " max_pooling2d_6 (MaxPooling  (None, 28, 28, 128)      0         \n",
            " 2D)                                                             \n",
            "                                                                 \n",
            " conv2d_7 (Conv2D)           (None, 28, 28, 256)       295168    \n",
            "                                                                 \n",
            " max_pooling2d_7 (MaxPooling  (None, 14, 14, 256)      0         \n",
            " 2D)                                                             \n",
            "                                                                 \n",
            " flatten_1 (Flatten)         (None, 50176)             0         \n",
            "                                                                 \n",
            " dense_2 (Dense)             (None, 64)                3211328   \n",
            "                                                                 \n",
            " dense_3 (Dense)             (None, 3)                 195       \n",
            "                                                                 \n",
            "=================================================================\n",
            "Total params: 3,599,939\n",
            "Trainable params: 3,599,939\n",
            "Non-trainable params: 0\n",
            "_________________________________________________________________\n"
          ]
        }
      ],
      "source": [
        "#Defining baseline bodel 2 for prediting orientation\n",
        "\n",
        "batch_size = 64\n",
        "model2 = Sequential()\n",
        "model2.add(Conv2D(32,(3,3),padding='same',input_shape=(224,224,3),activation='relu'))\n",
        "model2.add(MaxPool2D(2,2))\n",
        "model2.add(Conv2D(64,(3,3),padding='same',activation='relu'))\n",
        "model2.add(MaxPool2D(2,2))\n",
        "model2.add(Conv2D(128,(3,3),padding='same',activation='relu'))\n",
        "model2.add(MaxPool2D(2,2))\n",
        "model2.add(Conv2D(256,(3,3),padding='same',activation='relu'))\n",
        "model2.add(MaxPool2D(2,2))\n",
        "model2.add(Flatten())\n",
        "model2.add(Dense(64,activation='relu'))\n",
        "model2.add(Dense(3,activation='linear'))\n",
        "model2.summary()"
      ]
    },
    {
      "cell_type": "code",
      "source": [
        "train_set_reg2 = datagen.flow_from_dataframe(\n",
        "        df_train,\n",
        "        x_col='img_path',\n",
        "        y_col=['a','b','c'],\n",
        "        target_size=(224, 224),\n",
        "        class_mode='raw',\n",
        "        batch_size=64)\n",
        "\n",
        "val_set_reg2 = datagen.flow_from_dataframe(\n",
        "        df_val,\n",
        "        x_col='img_path',\n",
        "        y_col=['a','b','c'],\n",
        "        target_size=(224, 224),\n",
        "        class_mode='raw',\n",
        "        batch_size=64)\n",
        "\n",
        "test_set_reg2 = datagen.flow_from_dataframe(\n",
        "        df_test,\n",
        "        x_col='img_path',\n",
        "        y_col=['a','b','c'],\n",
        "        target_size=(224, 224),\n",
        "        batch_size=64,\n",
        "        class_mode='raw',\n",
        "        shuffle = False)"
      ],
      "metadata": {
        "id": "RDY9t4cp5Hnp",
        "colab": {
          "base_uri": "https://localhost:8080/"
        },
        "outputId": "82ec8006-3dc3-4a5f-a9d0-63b1f4792490"
      },
      "execution_count": null,
      "outputs": [
        {
          "output_type": "stream",
          "name": "stdout",
          "text": [
            "Found 5164 validated image filenames.\n",
            "Found 645 validated image filenames.\n",
            "Found 646 validated image filenames.\n"
          ]
        }
      ]
    },
    {
      "cell_type": "code",
      "execution_count": null,
      "metadata": {
        "id": "ppz8XY09MOrY",
        "colab": {
          "base_uri": "https://localhost:8080/"
        },
        "outputId": "dd9536e8-0487-4257-ed94-aceb87f52976"
      },
      "outputs": [
        {
          "output_type": "stream",
          "name": "stdout",
          "text": [
            "Epoch 1/100\n",
            "81/81 - 13s - loss: 23015.2656 - mse: 23015.2656 - val_loss: 11665.0156 - val_mse: 11665.0156 - 13s/epoch - 162ms/step\n",
            "Epoch 2/100\n",
            "81/81 - 12s - loss: 11086.6660 - mse: 11086.6660 - val_loss: 10973.3945 - val_mse: 10973.3945 - 12s/epoch - 150ms/step\n",
            "Epoch 3/100\n",
            "81/81 - 12s - loss: 10908.3193 - mse: 10908.3193 - val_loss: 10868.5234 - val_mse: 10868.5234 - 12s/epoch - 150ms/step\n",
            "Epoch 4/100\n",
            "81/81 - 13s - loss: 10872.9971 - mse: 10872.9971 - val_loss: 10873.1123 - val_mse: 10873.1123 - 13s/epoch - 160ms/step\n",
            "Epoch 5/100\n",
            "81/81 - 12s - loss: 10867.6357 - mse: 10867.6357 - val_loss: 11063.8486 - val_mse: 11063.8486 - 12s/epoch - 149ms/step\n",
            "Epoch 6/100\n",
            "81/81 - 12s - loss: 10948.5107 - mse: 10948.5107 - val_loss: 10927.8857 - val_mse: 10927.8857 - 12s/epoch - 148ms/step\n",
            "Epoch 7/100\n",
            "81/81 - 12s - loss: 10864.5537 - mse: 10864.5537 - val_loss: 10823.6582 - val_mse: 10823.6582 - 12s/epoch - 150ms/step\n",
            "Epoch 8/100\n",
            "81/81 - 12s - loss: 10862.6895 - mse: 10862.6895 - val_loss: 10975.0703 - val_mse: 10975.0703 - 12s/epoch - 150ms/step\n",
            "Epoch 9/100\n",
            "81/81 - 12s - loss: 10875.2051 - mse: 10875.2051 - val_loss: 10813.2871 - val_mse: 10813.2871 - 12s/epoch - 150ms/step\n",
            "Epoch 10/100\n",
            "81/81 - 12s - loss: 10874.3135 - mse: 10874.3135 - val_loss: 10820.2500 - val_mse: 10820.2500 - 12s/epoch - 150ms/step\n",
            "Epoch 11/100\n",
            "81/81 - 12s - loss: 10900.5547 - mse: 10900.5547 - val_loss: 10862.0908 - val_mse: 10862.0908 - 12s/epoch - 148ms/step\n",
            "Epoch 12/100\n",
            "81/81 - 12s - loss: 10849.5488 - mse: 10849.5488 - val_loss: 10914.5283 - val_mse: 10914.5283 - 12s/epoch - 149ms/step\n",
            "Epoch 13/100\n",
            "81/81 - 12s - loss: 10912.3975 - mse: 10912.3975 - val_loss: 10824.1904 - val_mse: 10824.1904 - 12s/epoch - 152ms/step\n",
            "Epoch 14/100\n",
            "81/81 - 12s - loss: 10843.2832 - mse: 10843.2832 - val_loss: 11005.7871 - val_mse: 11005.7871 - 12s/epoch - 150ms/step\n",
            "Epoch 15/100\n",
            "81/81 - 12s - loss: 10890.4775 - mse: 10890.4775 - val_loss: 10948.3613 - val_mse: 10948.3613 - 12s/epoch - 150ms/step\n",
            "Epoch 16/100\n",
            "81/81 - 12s - loss: 10852.2334 - mse: 10852.2334 - val_loss: 10897.3945 - val_mse: 10897.3945 - 12s/epoch - 150ms/step\n",
            "Epoch 17/100\n",
            "81/81 - 12s - loss: 10870.6279 - mse: 10870.6279 - val_loss: 10829.9727 - val_mse: 10829.9727 - 12s/epoch - 147ms/step\n",
            "Epoch 18/100\n",
            "81/81 - 12s - loss: 10819.5049 - mse: 10819.5049 - val_loss: 10821.0674 - val_mse: 10821.0674 - 12s/epoch - 148ms/step\n",
            "Epoch 19/100\n",
            "81/81 - 12s - loss: 10843.3496 - mse: 10843.3496 - val_loss: 10897.3740 - val_mse: 10897.3740 - 12s/epoch - 149ms/step\n",
            "Epoch 20/100\n",
            "81/81 - 12s - loss: 10832.3916 - mse: 10832.3916 - val_loss: 10846.1455 - val_mse: 10846.1455 - 12s/epoch - 149ms/step\n",
            "Epoch 21/100\n",
            "81/81 - 12s - loss: 10861.4541 - mse: 10861.4541 - val_loss: 10807.1748 - val_mse: 10807.1748 - 12s/epoch - 150ms/step\n",
            "Epoch 22/100\n",
            "81/81 - 13s - loss: 10868.5410 - mse: 10868.5410 - val_loss: 10899.4014 - val_mse: 10899.4014 - 13s/epoch - 160ms/step\n",
            "Epoch 23/100\n",
            "81/81 - 12s - loss: 10843.6660 - mse: 10843.6660 - val_loss: 10876.6748 - val_mse: 10876.6748 - 12s/epoch - 149ms/step\n",
            "Epoch 24/100\n",
            "81/81 - 12s - loss: 10837.1143 - mse: 10837.1143 - val_loss: 10839.3252 - val_mse: 10839.3252 - 12s/epoch - 148ms/step\n",
            "Epoch 25/100\n",
            "81/81 - 12s - loss: 10822.7793 - mse: 10822.7793 - val_loss: 10855.8184 - val_mse: 10855.8184 - 12s/epoch - 147ms/step\n",
            "Epoch 26/100\n",
            "81/81 - 12s - loss: 10805.8262 - mse: 10805.8262 - val_loss: 10886.4766 - val_mse: 10886.4766 - 12s/epoch - 148ms/step\n",
            "Epoch 27/100\n",
            "81/81 - 12s - loss: 10835.8857 - mse: 10835.8857 - val_loss: 10827.8477 - val_mse: 10827.8477 - 12s/epoch - 149ms/step\n",
            "Epoch 28/100\n",
            "81/81 - 12s - loss: 10813.1455 - mse: 10813.1455 - val_loss: 10866.6572 - val_mse: 10866.6572 - 12s/epoch - 148ms/step\n",
            "Epoch 29/100\n",
            "81/81 - 12s - loss: 10809.4443 - mse: 10809.4443 - val_loss: 10848.7324 - val_mse: 10848.7324 - 12s/epoch - 148ms/step\n",
            "Epoch 30/100\n",
            "81/81 - 12s - loss: 10815.6182 - mse: 10815.6182 - val_loss: 10810.5967 - val_mse: 10810.5967 - 12s/epoch - 147ms/step\n",
            "Epoch 31/100\n",
            "81/81 - 13s - loss: 10805.4062 - mse: 10805.4062 - val_loss: 10823.1045 - val_mse: 10823.1045 - 13s/epoch - 155ms/step\n",
            "Epoch 32/100\n",
            "81/81 - 12s - loss: 10834.8145 - mse: 10834.8145 - val_loss: 10893.5684 - val_mse: 10893.5684 - 12s/epoch - 149ms/step\n",
            "Epoch 33/100\n",
            "81/81 - 12s - loss: 10819.3467 - mse: 10819.3467 - val_loss: 10861.4229 - val_mse: 10861.4229 - 12s/epoch - 152ms/step\n",
            "Epoch 34/100\n",
            "81/81 - 12s - loss: 10900.7314 - mse: 10900.7314 - val_loss: 10803.0283 - val_mse: 10803.0283 - 12s/epoch - 149ms/step\n",
            "Epoch 35/100\n",
            "81/81 - 12s - loss: 10805.2383 - mse: 10805.2383 - val_loss: 10867.8994 - val_mse: 10867.8994 - 12s/epoch - 148ms/step\n",
            "Epoch 36/100\n",
            "81/81 - 12s - loss: 10822.5459 - mse: 10822.5459 - val_loss: 10898.2812 - val_mse: 10898.2812 - 12s/epoch - 149ms/step\n",
            "Epoch 37/100\n",
            "81/81 - 12s - loss: 10799.2607 - mse: 10799.2607 - val_loss: 10843.4717 - val_mse: 10843.4717 - 12s/epoch - 150ms/step\n",
            "Epoch 38/100\n",
            "81/81 - 12s - loss: 10807.1885 - mse: 10807.1885 - val_loss: 10983.8643 - val_mse: 10983.8643 - 12s/epoch - 151ms/step\n",
            "Epoch 39/100\n",
            "81/81 - 12s - loss: 10833.0039 - mse: 10833.0039 - val_loss: 10931.4492 - val_mse: 10931.4492 - 12s/epoch - 149ms/step\n",
            "Epoch 40/100\n",
            "81/81 - 12s - loss: 10808.5244 - mse: 10808.5244 - val_loss: 10985.6416 - val_mse: 10985.6416 - 12s/epoch - 149ms/step\n",
            "Epoch 41/100\n",
            "81/81 - 13s - loss: 10808.7139 - mse: 10808.7139 - val_loss: 10949.6016 - val_mse: 10949.6016 - 13s/epoch - 160ms/step\n",
            "Epoch 42/100\n",
            "81/81 - 12s - loss: 10860.3486 - mse: 10860.3486 - val_loss: 10792.1494 - val_mse: 10792.1494 - 12s/epoch - 149ms/step\n",
            "Epoch 43/100\n",
            "81/81 - 12s - loss: 10783.7920 - mse: 10783.7920 - val_loss: 10834.7822 - val_mse: 10834.7822 - 12s/epoch - 150ms/step\n",
            "Epoch 44/100\n",
            "81/81 - 12s - loss: 10783.1807 - mse: 10783.1807 - val_loss: 10899.7842 - val_mse: 10899.7842 - 12s/epoch - 148ms/step\n",
            "Epoch 45/100\n",
            "81/81 - 12s - loss: 10772.0283 - mse: 10772.0283 - val_loss: 10847.3818 - val_mse: 10847.3818 - 12s/epoch - 149ms/step\n",
            "Epoch 46/100\n",
            "81/81 - 12s - loss: 10765.8857 - mse: 10765.8857 - val_loss: 10818.9492 - val_mse: 10818.9492 - 12s/epoch - 150ms/step\n",
            "Epoch 47/100\n",
            "81/81 - 12s - loss: 10800.0186 - mse: 10800.0186 - val_loss: 10826.2617 - val_mse: 10826.2617 - 12s/epoch - 149ms/step\n",
            "Epoch 48/100\n",
            "81/81 - 12s - loss: 10769.9307 - mse: 10769.9307 - val_loss: 10904.6846 - val_mse: 10904.6846 - 12s/epoch - 149ms/step\n",
            "Epoch 49/100\n",
            "81/81 - 12s - loss: 10751.0283 - mse: 10751.0283 - val_loss: 10857.4766 - val_mse: 10857.4766 - 12s/epoch - 149ms/step\n",
            "Epoch 50/100\n",
            "81/81 - 13s - loss: 10777.8779 - mse: 10777.8779 - val_loss: 10808.6953 - val_mse: 10808.6953 - 13s/epoch - 164ms/step\n",
            "Epoch 51/100\n",
            "81/81 - 12s - loss: 10756.9951 - mse: 10756.9951 - val_loss: 10792.2461 - val_mse: 10792.2461 - 12s/epoch - 147ms/step\n",
            "Epoch 52/100\n",
            "81/81 - 12s - loss: 10774.7031 - mse: 10774.7031 - val_loss: 10838.1104 - val_mse: 10838.1104 - 12s/epoch - 151ms/step\n",
            "Epoch 53/100\n",
            "81/81 - 12s - loss: 10758.6807 - mse: 10758.6807 - val_loss: 10937.3340 - val_mse: 10937.3340 - 12s/epoch - 148ms/step\n",
            "Epoch 54/100\n",
            "81/81 - 12s - loss: 10779.5176 - mse: 10779.5176 - val_loss: 10810.9873 - val_mse: 10810.9873 - 12s/epoch - 150ms/step\n",
            "Epoch 55/100\n",
            "81/81 - 12s - loss: 10753.7686 - mse: 10753.7686 - val_loss: 10848.9785 - val_mse: 10848.9785 - 12s/epoch - 149ms/step\n",
            "Epoch 56/100\n",
            "81/81 - 12s - loss: 10743.9717 - mse: 10743.9717 - val_loss: 10799.7148 - val_mse: 10799.7148 - 12s/epoch - 149ms/step\n",
            "Epoch 57/100\n",
            "81/81 - 12s - loss: 10737.1992 - mse: 10737.1992 - val_loss: 10899.2920 - val_mse: 10899.2920 - 12s/epoch - 150ms/step\n",
            "Epoch 58/100\n",
            "81/81 - 12s - loss: 10760.8594 - mse: 10760.8594 - val_loss: 10909.6309 - val_mse: 10909.6309 - 12s/epoch - 151ms/step\n",
            "Epoch 59/100\n",
            "81/81 - 12s - loss: 10768.6777 - mse: 10768.6777 - val_loss: 10855.0283 - val_mse: 10855.0283 - 12s/epoch - 153ms/step\n",
            "Epoch 60/100\n",
            "81/81 - 13s - loss: 10741.5732 - mse: 10741.5732 - val_loss: 10857.3008 - val_mse: 10857.3008 - 13s/epoch - 158ms/step\n",
            "Epoch 61/100\n",
            "81/81 - 12s - loss: 10783.4414 - mse: 10783.4414 - val_loss: 10926.2578 - val_mse: 10926.2578 - 12s/epoch - 150ms/step\n",
            "Epoch 62/100\n",
            "Restoring model weights from the end of the best epoch: 42.\n",
            "81/81 - 12s - loss: 10729.6240 - mse: 10729.6240 - val_loss: 10931.2861 - val_mse: 10931.2861 - 12s/epoch - 150ms/step\n",
            "Epoch 62: early stopping\n"
          ]
        }
      ],
      "source": [
        "#Compiling baseline model 2 for prediting orientation\n",
        "\n",
        "model2.compile(loss='mse',metrics=['mse'],optimizer=optimizers.Adam(learning_rate=1e-4))\n",
        "\n",
        "history2= model2.fit(train_set_reg2,epochs=100,verbose=2,validation_data=val_set_reg2,batch_size=batch_size, callbacks=[es])"
      ]
    },
    {
      "cell_type": "code",
      "execution_count": null,
      "metadata": {
        "id": "M5SkJl3BSS0j",
        "colab": {
          "base_uri": "https://localhost:8080/",
          "height": 370
        },
        "outputId": "afd83ce2-e3d2-41db-9905-aaa762d8ef44"
      },
      "outputs": [
        {
          "output_type": "display_data",
          "data": {
            "text/plain": [
              "<Figure size 504x360 with 1 Axes>"
            ],
            "image/png": "[encoded data removed]"
          },
          "metadata": {
            "needs_background": "light"
          }
        }
      ],
      "source": [
        "#Plotting the performance of Baseline Model 1 for prediting Orientation i.e. Model 2\n",
        "\n",
        "fig, ax = plt.subplots(1,1,figsize=(7,5))\n",
        "ax.plot(history2.history['mse'])\n",
        "ax.plot(history2.history['val_mse'])\n",
        "ax.set_title('Model MSE')\n",
        "ax.set_ylabel('MSE')\n",
        "ax.set_xlabel('Epoch')\n",
        "ax.legend(['train', 'val'], loc='best')\n",
        "fig.suptitle('MSE Loss of Model2')\n",
        "plt.show()"
      ]
    },
    {
      "cell_type": "code",
      "execution_count": null,
      "metadata": {
        "id": "nDGy4JjqNC8F",
        "colab": {
          "base_uri": "https://localhost:8080/"
        },
        "outputId": "d3b8ab6b-0cc1-461d-d7bd-1fc1e5c0c032"
      },
      "outputs": [
        {
          "output_type": "stream",
          "name": "stdout",
          "text": [
            "11/11 [==============================] - 1s 125ms/step\n"
          ]
        }
      ],
      "source": [
        "#Predicting the orientation\n",
        "\n",
        "y_pred2=model2.predict(test_set_reg2)\n",
        "y_pred2=pd.DataFrame(y_pred2, columns=['a','b','c'])\n",
        "y_test2=df_test[['a','b','c']]"
      ]
    },
    {
      "cell_type": "code",
      "execution_count": null,
      "metadata": {
        "id": "xOlwaS1iN1UT",
        "colab": {
          "base_uri": "https://localhost:8080/"
        },
        "outputId": "94859b1d-b721-427d-db62-a33910e04495"
      },
      "outputs": [
        {
          "output_type": "stream",
          "name": "stdout",
          "text": [
            "MSE Loss for model A is\n",
            "{'L': 65.85594551256827, 'W': 34.12327759839376, 'H': 34.12677750938775, 'volume': 1764914238.9427245, 'surfacearea': 19120190.781733748, 'a': 11414.941430719999, 'b': 10164.745748371688, 'c': 10762.61590727996}\n"
          ]
        }
      ],
      "source": [
        "#Calculating the MSEs of L,W,H, Volume, surface area, a, b, c\n",
        "\n",
        "ypredA=pd.concat([y_pred1,y_pred2,y_pred1_features],axis=1)\n",
        "ytrueA=pd.concat([y_test1,y_test2,y_test1_features],axis=1)\n",
        "mseA=meansquareerror(ytrueA,ypredA)\n",
        "print('MSE Loss for model A is')\n",
        "print(mseA)"
      ]
    },
    {
      "cell_type": "markdown",
      "metadata": {
        "id": "PI3IkCBARBBQ"
      },
      "source": [
        "# *ModelB*"
      ]
    },
    {
      "cell_type": "markdown",
      "metadata": {
        "id": "2Bqdhb6XRRum"
      },
      "source": [
        "ModelB: it consist of 2 submodels namely model3 and model4. These are improved version of model1 and model2. In these improved model there more number of hidden layer and regularisation was also done in the form of dropout, and L2 regularisation.\n",
        "\n",
        "*   model3 is CNN regression model take inputs as the images and response variable as Length(L), Width(W), Height(H) and used to predict them on test data. We can calculate Volume, Surface area from these predicted variables. \n",
        "\n",
        "*   model4 is CNN regression model take inputs as the images and reponse variable as  Orientation a, b ,c and used to predict them on test data"
      ]
    },
    {
      "cell_type": "code",
      "execution_count": null,
      "metadata": {
        "id": "5Pt-kbqtA8kj",
        "colab": {
          "base_uri": "https://localhost:8080/"
        },
        "outputId": "5b8f6695-dd3f-4419-b783-f9426f0b8bb2"
      },
      "outputs": [
        {
          "output_type": "stream",
          "name": "stdout",
          "text": [
            "Model: \"sequential_2\"\n",
            "_________________________________________________________________\n",
            " Layer (type)                Output Shape              Param #   \n",
            "=================================================================\n",
            " conv2d_8 (Conv2D)           (None, 224, 224, 32)      896       \n",
            "                                                                 \n",
            " max_pooling2d_8 (MaxPooling  (None, 112, 112, 32)     0         \n",
            " 2D)                                                             \n",
            "                                                                 \n",
            " conv2d_9 (Conv2D)           (None, 112, 112, 64)      18496     \n",
            "                                                                 \n",
            " max_pooling2d_9 (MaxPooling  (None, 56, 56, 64)       0         \n",
            " 2D)                                                             \n",
            "                                                                 \n",
            " conv2d_10 (Conv2D)          (None, 56, 56, 128)       73856     \n",
            "                                                                 \n",
            " max_pooling2d_10 (MaxPoolin  (None, 28, 28, 128)      0         \n",
            " g2D)                                                            \n",
            "                                                                 \n",
            " conv2d_11 (Conv2D)          (None, 28, 28, 256)       295168    \n",
            "                                                                 \n",
            " max_pooling2d_11 (MaxPoolin  (None, 14, 14, 256)      0         \n",
            " g2D)                                                            \n",
            "                                                                 \n",
            " conv2d_12 (Conv2D)          (None, 14, 14, 512)       1180160   \n",
            "                                                                 \n",
            " max_pooling2d_12 (MaxPoolin  (None, 7, 7, 512)        0         \n",
            " g2D)                                                            \n",
            "                                                                 \n",
            " conv2d_13 (Conv2D)          (None, 7, 7, 512)         2359808   \n",
            "                                                                 \n",
            " max_pooling2d_13 (MaxPoolin  (None, 3, 3, 512)        0         \n",
            " g2D)                                                            \n",
            "                                                                 \n",
            " flatten_2 (Flatten)         (None, 4608)              0         \n",
            "                                                                 \n",
            " dense_4 (Dense)             (None, 64)                294976    \n",
            "                                                                 \n",
            " dropout (Dropout)           (None, 64)                0         \n",
            "                                                                 \n",
            " dense_5 (Dense)             (None, 32)                2080      \n",
            "                                                                 \n",
            " dropout_1 (Dropout)         (None, 32)                0         \n",
            "                                                                 \n",
            " dense_6 (Dense)             (None, 3)                 99        \n",
            "                                                                 \n",
            "=================================================================\n",
            "Total params: 4,225,539\n",
            "Trainable params: 4,225,539\n",
            "Non-trainable params: 0\n",
            "_________________________________________________________________\n"
          ]
        }
      ],
      "source": [
        "#Improved Model i.e. Model 3 with regularistion and given parameters\n",
        "\n",
        "batch_size = 64\n",
        "model3 = Sequential()\n",
        "model3.add(Conv2D(32,(3,3),padding='same',input_shape=(224,224,3),activation='relu', kernel_regularizer=regularizers.L2(0.01)))\n",
        "model3.add(MaxPool2D(2,2))\n",
        "model3.add(Conv2D(64,(3,3),padding='same',activation='relu', kernel_regularizer=regularizers.L2(0.01)))\n",
        "model3.add(MaxPool2D(2,2))\n",
        "model3.add(Conv2D(128,(3,3),padding='same',activation='relu', kernel_regularizer=regularizers.L2(0.01)))\n",
        "model3.add(MaxPool2D(2,2))\n",
        "model3.add(Conv2D(256,(3,3),padding='same',activation='relu', kernel_regularizer=regularizers.L2(0.01)))\n",
        "model3.add(MaxPool2D(2,2))\n",
        "model3.add(Conv2D(512,(3,3),padding='same',activation='relu', kernel_regularizer=regularizers.L2(0.01)))\n",
        "model3.add(MaxPool2D(2,2))\n",
        "model3.add(Conv2D(512,(3,3),padding='same',activation='relu', kernel_regularizer=regularizers.L2(0.01)))\n",
        "model3.add(MaxPool2D(2,2))\n",
        "model3.add(Flatten())\n",
        "model3.add(Dense(64,activation='relu', kernel_regularizer=regularizers.L2(0.01)))\n",
        "model3.add(Dropout(0.2))\n",
        "model3.add(Dense(32,activation='relu', kernel_regularizer=regularizers.L2(0.01)))\n",
        "model3.add(Dropout(0.2))\n",
        "model3.add(Dense(3,activation='linear'))\n",
        "model3.summary()"
      ]
    },
    {
      "cell_type": "code",
      "source": [
        "# Compiling the improved model i.e. Model 3 \n",
        "model3.compile(loss='mse',metrics=['mse'],optimizer=optimizers.Adam(learning_rate=1e-4))\n",
        "\n",
        "history3= model3.fit(train_set_reg1,epochs=100,verbose=2,validation_data=val_set_reg1,batch_size=batch_size, callbacks=[es])"
      ],
      "metadata": {
        "id": "9AHuGjgp9dvo",
        "colab": {
          "base_uri": "https://localhost:8080/"
        },
        "outputId": "c2ec61d3-a43d-4e03-8400-cc1aade17983"
      },
      "execution_count": null,
      "outputs": [
        {
          "output_type": "stream",
          "name": "stdout",
          "text": [
            "Epoch 1/100\n",
            "81/81 - 15s - loss: 297.0454 - mse: 284.1424 - val_loss: 85.8656 - val_mse: 73.3368 - 15s/epoch - 183ms/step\n",
            "Epoch 2/100\n",
            "81/81 - 13s - loss: 150.1507 - mse: 137.9423 - val_loss: 86.3967 - val_mse: 74.4837 - 13s/epoch - 155ms/step\n",
            "Epoch 3/100\n",
            "81/81 - 13s - loss: 142.4679 - mse: 130.7908 - val_loss: 88.4874 - val_mse: 77.0330 - 13s/epoch - 155ms/step\n",
            "Epoch 4/100\n",
            "81/81 - 13s - loss: 135.7407 - mse: 124.4696 - val_loss: 76.3899 - val_mse: 65.2939 - 13s/epoch - 156ms/step\n",
            "Epoch 5/100\n",
            "81/81 - 13s - loss: 131.4324 - mse: 120.4867 - val_loss: 71.4409 - val_mse: 60.6419 - 13s/epoch - 154ms/step\n",
            "Epoch 6/100\n",
            "81/81 - 13s - loss: 128.6302 - mse: 117.9598 - val_loss: 72.8654 - val_mse: 62.3203 - 13s/epoch - 158ms/step\n",
            "Epoch 7/100\n",
            "81/81 - 12s - loss: 124.2748 - mse: 113.8402 - val_loss: 67.5089 - val_mse: 57.1817 - 12s/epoch - 154ms/step\n",
            "Epoch 8/100\n",
            "81/81 - 13s - loss: 120.6131 - mse: 110.3857 - val_loss: 67.5701 - val_mse: 57.4379 - 13s/epoch - 155ms/step\n",
            "Epoch 9/100\n",
            "81/81 - 13s - loss: 119.8594 - mse: 109.8134 - val_loss: 71.5475 - val_mse: 61.5847 - 13s/epoch - 157ms/step\n",
            "Epoch 10/100\n",
            "81/81 - 13s - loss: 116.6071 - mse: 106.7184 - val_loss: 84.1041 - val_mse: 74.2898 - 13s/epoch - 155ms/step\n",
            "Epoch 11/100\n",
            "81/81 - 13s - loss: 116.1753 - mse: 106.4264 - val_loss: 76.4622 - val_mse: 66.7801 - 13s/epoch - 155ms/step\n",
            "Epoch 12/100\n",
            "81/81 - 13s - loss: 112.2648 - mse: 102.6350 - val_loss: 64.1954 - val_mse: 54.6178 - 13s/epoch - 154ms/step\n",
            "Epoch 13/100\n",
            "81/81 - 12s - loss: 110.5355 - mse: 101.0051 - val_loss: 68.2619 - val_mse: 58.7806 - 12s/epoch - 154ms/step\n",
            "Epoch 14/100\n",
            "81/81 - 12s - loss: 109.7613 - mse: 100.3167 - val_loss: 62.7659 - val_mse: 53.3614 - 12s/epoch - 154ms/step\n",
            "Epoch 15/100\n",
            "81/81 - 13s - loss: 106.6766 - mse: 97.3055 - val_loss: 64.7341 - val_mse: 55.3958 - 13s/epoch - 166ms/step\n",
            "Epoch 16/100\n",
            "81/81 - 13s - loss: 107.3701 - mse: 98.0550 - val_loss: 65.8718 - val_mse: 56.5764 - 13s/epoch - 154ms/step\n",
            "Epoch 17/100\n",
            "81/81 - 12s - loss: 104.4880 - mse: 95.2097 - val_loss: 91.4952 - val_mse: 82.2391 - 12s/epoch - 154ms/step\n",
            "Epoch 18/100\n",
            "81/81 - 13s - loss: 101.0378 - mse: 91.7955 - val_loss: 63.0715 - val_mse: 53.8397 - 13s/epoch - 155ms/step\n",
            "Epoch 19/100\n",
            "81/81 - 13s - loss: 97.6259 - mse: 88.4040 - val_loss: 62.3568 - val_mse: 53.1452 - 13s/epoch - 156ms/step\n",
            "Epoch 20/100\n",
            "81/81 - 13s - loss: 97.6338 - mse: 88.4281 - val_loss: 54.7608 - val_mse: 45.5618 - 13s/epoch - 155ms/step\n",
            "Epoch 21/100\n",
            "81/81 - 12s - loss: 93.4727 - mse: 84.2873 - val_loss: 74.4070 - val_mse: 65.2361 - 12s/epoch - 154ms/step\n",
            "Epoch 22/100\n",
            "81/81 - 13s - loss: 92.9998 - mse: 83.8366 - val_loss: 51.3673 - val_mse: 42.2189 - 13s/epoch - 155ms/step\n",
            "Epoch 23/100\n",
            "81/81 - 13s - loss: 88.6965 - mse: 79.5635 - val_loss: 52.4488 - val_mse: 43.3297 - 13s/epoch - 154ms/step\n",
            "Epoch 24/100\n",
            "81/81 - 13s - loss: 87.0927 - mse: 77.9900 - val_loss: 48.4316 - val_mse: 39.3440 - 13s/epoch - 165ms/step\n",
            "Epoch 25/100\n",
            "81/81 - 12s - loss: 86.2983 - mse: 77.2327 - val_loss: 46.7789 - val_mse: 37.7304 - 12s/epoch - 154ms/step\n",
            "Epoch 26/100\n",
            "81/81 - 12s - loss: 82.3172 - mse: 73.2889 - val_loss: 49.4044 - val_mse: 40.3973 - 12s/epoch - 154ms/step\n",
            "Epoch 27/100\n",
            "81/81 - 13s - loss: 81.4020 - mse: 72.4174 - val_loss: 54.6566 - val_mse: 45.6976 - 13s/epoch - 155ms/step\n",
            "Epoch 28/100\n",
            "81/81 - 12s - loss: 79.5225 - mse: 70.5802 - val_loss: 52.3436 - val_mse: 43.4255 - 12s/epoch - 154ms/step\n",
            "Epoch 29/100\n",
            "81/81 - 12s - loss: 78.9941 - mse: 70.0959 - val_loss: 46.9742 - val_mse: 38.0981 - 12s/epoch - 154ms/step\n",
            "Epoch 30/100\n",
            "81/81 - 12s - loss: 78.0255 - mse: 69.1708 - val_loss: 54.5164 - val_mse: 45.6828 - 12s/epoch - 153ms/step\n",
            "Epoch 31/100\n",
            "81/81 - 12s - loss: 78.0259 - mse: 69.2106 - val_loss: 50.9963 - val_mse: 42.2030 - 12s/epoch - 154ms/step\n",
            "Epoch 32/100\n",
            "81/81 - 13s - loss: 76.4807 - mse: 67.7025 - val_loss: 46.6702 - val_mse: 37.9096 - 13s/epoch - 156ms/step\n",
            "Epoch 33/100\n",
            "81/81 - 13s - loss: 75.2490 - mse: 66.5060 - val_loss: 43.7197 - val_mse: 34.9956 - 13s/epoch - 159ms/step\n",
            "Epoch 34/100\n",
            "81/81 - 12s - loss: 74.8118 - mse: 66.1037 - val_loss: 43.8962 - val_mse: 35.2018 - 12s/epoch - 153ms/step\n",
            "Epoch 35/100\n",
            "81/81 - 12s - loss: 76.3469 - mse: 67.6663 - val_loss: 55.4537 - val_mse: 46.7910 - 12s/epoch - 152ms/step\n",
            "Epoch 36/100\n",
            "81/81 - 13s - loss: 75.4666 - mse: 66.8151 - val_loss: 44.6282 - val_mse: 35.9935 - 13s/epoch - 154ms/step\n",
            "Epoch 37/100\n",
            "81/81 - 12s - loss: 73.8440 - mse: 65.2237 - val_loss: 49.1532 - val_mse: 40.5491 - 12s/epoch - 153ms/step\n",
            "Epoch 38/100\n",
            "81/81 - 12s - loss: 71.5944 - mse: 63.0045 - val_loss: 45.3985 - val_mse: 36.8235 - 12s/epoch - 154ms/step\n",
            "Epoch 39/100\n",
            "81/81 - 12s - loss: 70.8508 - mse: 62.2881 - val_loss: 40.8653 - val_mse: 32.3155 - 12s/epoch - 154ms/step\n",
            "Epoch 40/100\n",
            "81/81 - 12s - loss: 71.4107 - mse: 62.8713 - val_loss: 40.9519 - val_mse: 32.4255 - 12s/epoch - 152ms/step\n",
            "Epoch 41/100\n",
            "81/81 - 13s - loss: 72.4103 - mse: 63.8938 - val_loss: 45.3508 - val_mse: 36.8454 - 13s/epoch - 160ms/step\n",
            "Epoch 42/100\n",
            "81/81 - 12s - loss: 69.7083 - mse: 61.2138 - val_loss: 40.7050 - val_mse: 32.2222 - 12s/epoch - 154ms/step\n",
            "Epoch 43/100\n",
            "81/81 - 13s - loss: 68.0720 - mse: 59.5995 - val_loss: 38.8662 - val_mse: 30.4021 - 13s/epoch - 155ms/step\n",
            "Epoch 44/100\n",
            "81/81 - 12s - loss: 67.5709 - mse: 59.1198 - val_loss: 40.9688 - val_mse: 32.5281 - 12s/epoch - 154ms/step\n",
            "Epoch 45/100\n",
            "81/81 - 12s - loss: 67.1653 - mse: 58.7369 - val_loss: 47.6250 - val_mse: 39.2053 - 12s/epoch - 154ms/step\n",
            "Epoch 46/100\n",
            "81/81 - 12s - loss: 66.6386 - mse: 58.2256 - val_loss: 37.5368 - val_mse: 29.1311 - 12s/epoch - 153ms/step\n",
            "Epoch 47/100\n",
            "81/81 - 12s - loss: 66.6710 - mse: 58.2755 - val_loss: 38.3779 - val_mse: 29.9913 - 12s/epoch - 154ms/step\n",
            "Epoch 48/100\n",
            "81/81 - 12s - loss: 64.3383 - mse: 55.9595 - val_loss: 37.8058 - val_mse: 29.4333 - 12s/epoch - 154ms/step\n",
            "Epoch 49/100\n",
            "81/81 - 12s - loss: 65.4663 - mse: 57.1029 - val_loss: 39.2387 - val_mse: 30.8847 - 12s/epoch - 154ms/step\n",
            "Epoch 50/100\n",
            "81/81 - 12s - loss: 62.4081 - mse: 54.0619 - val_loss: 40.7488 - val_mse: 32.4092 - 12s/epoch - 154ms/step\n",
            "Epoch 51/100\n",
            "81/81 - 13s - loss: 62.5434 - mse: 54.2120 - val_loss: 35.8013 - val_mse: 27.4784 - 13s/epoch - 162ms/step\n",
            "Epoch 52/100\n",
            "81/81 - 12s - loss: 63.7381 - mse: 55.4198 - val_loss: 38.9067 - val_mse: 30.5942 - 12s/epoch - 153ms/step\n",
            "Epoch 53/100\n",
            "81/81 - 12s - loss: 63.4247 - mse: 55.1161 - val_loss: 43.5987 - val_mse: 35.2952 - 12s/epoch - 154ms/step\n",
            "Epoch 54/100\n",
            "81/81 - 12s - loss: 60.4093 - mse: 52.1121 - val_loss: 35.7196 - val_mse: 27.4289 - 12s/epoch - 154ms/step\n",
            "Epoch 55/100\n",
            "81/81 - 13s - loss: 60.0981 - mse: 51.8133 - val_loss: 34.7383 - val_mse: 26.4593 - 13s/epoch - 155ms/step\n",
            "Epoch 56/100\n",
            "81/81 - 12s - loss: 60.7924 - mse: 52.5219 - val_loss: 42.3978 - val_mse: 34.1337 - 12s/epoch - 153ms/step\n",
            "Epoch 57/100\n",
            "81/81 - 12s - loss: 60.6383 - mse: 52.3783 - val_loss: 34.4190 - val_mse: 26.1670 - 12s/epoch - 154ms/step\n",
            "Epoch 58/100\n",
            "81/81 - 12s - loss: 60.4737 - mse: 52.2289 - val_loss: 36.8970 - val_mse: 28.6556 - 12s/epoch - 153ms/step\n",
            "Epoch 59/100\n",
            "81/81 - 12s - loss: 58.6266 - mse: 50.3918 - val_loss: 35.5964 - val_mse: 27.3689 - 12s/epoch - 154ms/step\n",
            "Epoch 60/100\n",
            "81/81 - 13s - loss: 57.0731 - mse: 48.8517 - val_loss: 33.0838 - val_mse: 24.8695 - 13s/epoch - 163ms/step\n",
            "Epoch 61/100\n",
            "81/81 - 12s - loss: 58.4049 - mse: 50.1990 - val_loss: 34.6474 - val_mse: 26.4480 - 12s/epoch - 154ms/step\n",
            "Epoch 62/100\n",
            "81/81 - 12s - loss: 57.9564 - mse: 49.7608 - val_loss: 41.1185 - val_mse: 32.9273 - 12s/epoch - 154ms/step\n",
            "Epoch 63/100\n",
            "81/81 - 12s - loss: 55.0212 - mse: 46.8370 - val_loss: 33.6390 - val_mse: 25.4601 - 12s/epoch - 153ms/step\n",
            "Epoch 64/100\n",
            "81/81 - 12s - loss: 56.0545 - mse: 47.8827 - val_loss: 33.3252 - val_mse: 25.1592 - 12s/epoch - 154ms/step\n",
            "Epoch 65/100\n",
            "81/81 - 12s - loss: 56.8274 - mse: 48.6662 - val_loss: 37.6427 - val_mse: 29.4850 - 12s/epoch - 154ms/step\n",
            "Epoch 66/100\n",
            "81/81 - 12s - loss: 54.8329 - mse: 46.6807 - val_loss: 34.2069 - val_mse: 26.0603 - 12s/epoch - 154ms/step\n",
            "Epoch 67/100\n",
            "81/81 - 13s - loss: 55.9170 - mse: 47.7775 - val_loss: 33.7680 - val_mse: 25.6350 - 13s/epoch - 156ms/step\n",
            "Epoch 68/100\n",
            "81/81 - 12s - loss: 53.7442 - mse: 45.6174 - val_loss: 32.9572 - val_mse: 24.8350 - 12s/epoch - 154ms/step\n",
            "Epoch 69/100\n",
            "81/81 - 14s - loss: 54.4424 - mse: 46.3262 - val_loss: 32.0839 - val_mse: 23.9735 - 14s/epoch - 169ms/step\n",
            "Epoch 70/100\n",
            "81/81 - 12s - loss: 54.7710 - mse: 46.6669 - val_loss: 35.5258 - val_mse: 27.4278 - 12s/epoch - 154ms/step\n",
            "Epoch 71/100\n",
            "81/81 - 13s - loss: 52.5272 - mse: 44.4346 - val_loss: 34.6295 - val_mse: 26.5436 - 13s/epoch - 155ms/step\n",
            "Epoch 72/100\n",
            "81/81 - 13s - loss: 51.4679 - mse: 43.3887 - val_loss: 36.0433 - val_mse: 27.9690 - 13s/epoch - 155ms/step\n",
            "Epoch 73/100\n",
            "81/81 - 13s - loss: 50.6480 - mse: 42.5794 - val_loss: 32.1799 - val_mse: 24.1179 - 13s/epoch - 154ms/step\n",
            "Epoch 74/100\n",
            "81/81 - 12s - loss: 50.9376 - mse: 42.8829 - val_loss: 33.0070 - val_mse: 24.9595 - 12s/epoch - 153ms/step\n",
            "Epoch 75/100\n",
            "81/81 - 12s - loss: 51.7215 - mse: 43.6795 - val_loss: 29.1342 - val_mse: 21.0977 - 12s/epoch - 153ms/step\n",
            "Epoch 76/100\n",
            "81/81 - 12s - loss: 50.9426 - mse: 42.9124 - val_loss: 32.7262 - val_mse: 24.7028 - 12s/epoch - 154ms/step\n",
            "Epoch 77/100\n",
            "81/81 - 12s - loss: 50.3153 - mse: 42.2992 - val_loss: 27.2818 - val_mse: 19.2731 - 12s/epoch - 153ms/step\n",
            "Epoch 78/100\n",
            "81/81 - 13s - loss: 49.9386 - mse: 41.9370 - val_loss: 32.6541 - val_mse: 24.6606 - 13s/epoch - 157ms/step\n",
            "Epoch 79/100\n",
            "81/81 - 12s - loss: 48.7151 - mse: 40.7285 - val_loss: 27.9341 - val_mse: 19.9554 - 12s/epoch - 154ms/step\n",
            "Epoch 80/100\n",
            "81/81 - 12s - loss: 49.0221 - mse: 41.0495 - val_loss: 29.1398 - val_mse: 21.1734 - 12s/epoch - 154ms/step\n",
            "Epoch 81/100\n",
            "81/81 - 13s - loss: 49.1418 - mse: 41.1828 - val_loss: 28.6408 - val_mse: 20.6903 - 13s/epoch - 155ms/step\n",
            "Epoch 82/100\n",
            "81/81 - 13s - loss: 49.0565 - mse: 41.1146 - val_loss: 31.8873 - val_mse: 23.9519 - 13s/epoch - 155ms/step\n",
            "Epoch 83/100\n",
            "81/81 - 12s - loss: 48.5894 - mse: 40.6604 - val_loss: 32.0822 - val_mse: 24.1587 - 12s/epoch - 154ms/step\n",
            "Epoch 84/100\n",
            "81/81 - 12s - loss: 47.4448 - mse: 39.5282 - val_loss: 26.1647 - val_mse: 18.2551 - 12s/epoch - 154ms/step\n",
            "Epoch 85/100\n",
            "81/81 - 13s - loss: 46.6144 - mse: 38.7139 - val_loss: 30.1714 - val_mse: 22.2803 - 13s/epoch - 155ms/step\n",
            "Epoch 86/100\n",
            "81/81 - 13s - loss: 45.5869 - mse: 37.7056 - val_loss: 29.6467 - val_mse: 21.7750 - 13s/epoch - 156ms/step\n",
            "Epoch 87/100\n",
            "81/81 - 13s - loss: 47.8320 - mse: 39.9655 - val_loss: 31.5641 - val_mse: 23.7028 - 13s/epoch - 164ms/step\n",
            "Epoch 88/100\n",
            "81/81 - 13s - loss: 46.7775 - mse: 38.9237 - val_loss: 28.2961 - val_mse: 20.4492 - 13s/epoch - 155ms/step\n",
            "Epoch 89/100\n",
            "81/81 - 12s - loss: 47.3622 - mse: 39.5224 - val_loss: 25.3932 - val_mse: 17.5599 - 12s/epoch - 154ms/step\n",
            "Epoch 90/100\n",
            "81/81 - 12s - loss: 46.1311 - mse: 38.3086 - val_loss: 27.3941 - val_mse: 19.5799 - 12s/epoch - 154ms/step\n",
            "Epoch 91/100\n",
            "81/81 - 13s - loss: 43.5473 - mse: 35.7424 - val_loss: 27.6185 - val_mse: 19.8241 - 13s/epoch - 155ms/step\n",
            "Epoch 92/100\n",
            "81/81 - 13s - loss: 45.1680 - mse: 37.3849 - val_loss: 33.2930 - val_mse: 25.5198 - 13s/epoch - 155ms/step\n",
            "Epoch 93/100\n",
            "81/81 - 12s - loss: 44.7755 - mse: 37.0076 - val_loss: 28.7462 - val_mse: 20.9869 - 12s/epoch - 154ms/step\n",
            "Epoch 94/100\n",
            "81/81 - 12s - loss: 44.9885 - mse: 37.2381 - val_loss: 25.2561 - val_mse: 17.5138 - 12s/epoch - 154ms/step\n",
            "Epoch 95/100\n",
            "81/81 - 13s - loss: 44.2513 - mse: 36.5170 - val_loss: 25.4001 - val_mse: 17.6739 - 13s/epoch - 155ms/step\n",
            "Epoch 96/100\n",
            "81/81 - 13s - loss: 43.9886 - mse: 36.2739 - val_loss: 30.7558 - val_mse: 23.0491 - 13s/epoch - 163ms/step\n",
            "Epoch 97/100\n",
            "81/81 - 12s - loss: 43.4587 - mse: 35.7627 - val_loss: 36.7900 - val_mse: 29.1035 - 12s/epoch - 154ms/step\n",
            "Epoch 98/100\n",
            "81/81 - 12s - loss: 44.8047 - mse: 37.1253 - val_loss: 32.0400 - val_mse: 24.3706 - 12s/epoch - 154ms/step\n",
            "Epoch 99/100\n",
            "81/81 - 13s - loss: 43.8897 - mse: 36.2318 - val_loss: 26.4556 - val_mse: 18.8091 - 13s/epoch - 155ms/step\n",
            "Epoch 100/100\n",
            "81/81 - 13s - loss: 44.1759 - mse: 36.5397 - val_loss: 27.7696 - val_mse: 20.1429 - 13s/epoch - 155ms/step\n"
          ]
        }
      ]
    },
    {
      "cell_type": "code",
      "execution_count": null,
      "metadata": {
        "id": "exCaotoCSaQn",
        "colab": {
          "base_uri": "https://localhost:8080/",
          "height": 370
        },
        "outputId": "0f22d19c-b68a-4267-9821-c018f544c2e7"
      },
      "outputs": [
        {
          "output_type": "display_data",
          "data": {
            "text/plain": [
              "<Figure size 504x360 with 1 Axes>"
            ],
            "image/png": "[encoded data removed]"
          },
          "metadata": {
            "needs_background": "light"
          }
        }
      ],
      "source": [
        "#Plotting the performance of Improved Modeel i.e. Model 3 \n",
        "fig, ax = plt.subplots(1,1,figsize=(7,5))\n",
        "ax.plot(history3.history['mse'])\n",
        "ax.plot(history3.history['val_mse'])\n",
        "ax.set_title('Model MSE')\n",
        "ax.set_ylabel('MSE')\n",
        "ax.set_xlabel('Epoch')\n",
        "ax.legend(['train', 'val'], loc='best')\n",
        "fig.suptitle('MSE Loss of Model3')\n",
        "plt.show()"
      ]
    },
    {
      "cell_type": "code",
      "source": [
        "#Making predictions on Model 3 i.e. Improved Model\n",
        "\n",
        "y_pred3=model3.predict(test_set_reg1)\n",
        "y_pred3 = pd.DataFrame(y_pred3,columns=['L','W','H'])\n",
        "y_test3=df_test[['L','W','H']]\n",
        "\n",
        "y_pred3=pd.concat([y_pred_shape,y_pred3],axis=1)\n",
        "y_test3=pd.concat([y_test_shape,y_test3],axis=1)\n",
        "\n",
        "y_pred3_features=vol_area(y_pred3)\n",
        "y_test3_features=vol_area(y_test3)"
      ],
      "metadata": {
        "id": "x_qcdZiz94Wj",
        "colab": {
          "base_uri": "https://localhost:8080/"
        },
        "outputId": "f73a9804-8d27-44fc-c387-b931eb09fe6c"
      },
      "execution_count": null,
      "outputs": [
        {
          "output_type": "stream",
          "name": "stdout",
          "text": [
            "11/11 [==============================] - 2s 136ms/step\n"
          ]
        }
      ]
    },
    {
      "cell_type": "code",
      "execution_count": null,
      "metadata": {
        "id": "fyqvum4OJSOA",
        "colab": {
          "base_uri": "https://localhost:8080/"
        },
        "outputId": "0ac32e1c-78ea-4103-8180-5d783e6a2853"
      },
      "outputs": [
        {
          "output_type": "stream",
          "name": "stdout",
          "text": [
            "Model: \"sequential_3\"\n",
            "_________________________________________________________________\n",
            " Layer (type)                Output Shape              Param #   \n",
            "=================================================================\n",
            " conv2d_14 (Conv2D)          (None, 224, 224, 32)      896       \n",
            "                                                                 \n",
            " max_pooling2d_14 (MaxPoolin  (None, 112, 112, 32)     0         \n",
            " g2D)                                                            \n",
            "                                                                 \n",
            " conv2d_15 (Conv2D)          (None, 112, 112, 64)      18496     \n",
            "                                                                 \n",
            " max_pooling2d_15 (MaxPoolin  (None, 56, 56, 64)       0         \n",
            " g2D)                                                            \n",
            "                                                                 \n",
            " conv2d_16 (Conv2D)          (None, 56, 56, 128)       73856     \n",
            "                                                                 \n",
            " max_pooling2d_16 (MaxPoolin  (None, 28, 28, 128)      0         \n",
            " g2D)                                                            \n",
            "                                                                 \n",
            " conv2d_17 (Conv2D)          (None, 28, 28, 256)       295168    \n",
            "                                                                 \n",
            " max_pooling2d_17 (MaxPoolin  (None, 14, 14, 256)      0         \n",
            " g2D)                                                            \n",
            "                                                                 \n",
            " conv2d_18 (Conv2D)          (None, 14, 14, 512)       1180160   \n",
            "                                                                 \n",
            " max_pooling2d_18 (MaxPoolin  (None, 7, 7, 512)        0         \n",
            " g2D)                                                            \n",
            "                                                                 \n",
            " conv2d_19 (Conv2D)          (None, 7, 7, 512)         2359808   \n",
            "                                                                 \n",
            " max_pooling2d_19 (MaxPoolin  (None, 3, 3, 512)        0         \n",
            " g2D)                                                            \n",
            "                                                                 \n",
            " flatten_3 (Flatten)         (None, 4608)              0         \n",
            "                                                                 \n",
            " dense_7 (Dense)             (None, 64)                294976    \n",
            "                                                                 \n",
            " dropout_2 (Dropout)         (None, 64)                0         \n",
            "                                                                 \n",
            " dense_8 (Dense)             (None, 32)                2080      \n",
            "                                                                 \n",
            " dropout_3 (Dropout)         (None, 32)                0         \n",
            "                                                                 \n",
            " dense_9 (Dense)             (None, 3)                 99        \n",
            "                                                                 \n",
            "=================================================================\n",
            "Total params: 4,225,539\n",
            "Trainable params: 4,225,539\n",
            "Non-trainable params: 0\n",
            "_________________________________________________________________\n"
          ]
        }
      ],
      "source": [
        "#Improved Model i.e. Model 4 with regularistion and given parameters\n",
        "\n",
        "batch_size = 64\n",
        "model4 = Sequential()\n",
        "model4.add(Conv2D(32,(3,3),padding='same',input_shape=(224,224,3),activation='relu', kernel_regularizer=regularizers.L2(0.01)))\n",
        "model4.add(MaxPool2D(2,2))\n",
        "model4.add(Conv2D(64,(3,3),padding='same',activation='relu', kernel_regularizer=regularizers.L2(0.01)))\n",
        "model4.add(MaxPool2D(2,2))\n",
        "model4.add(Conv2D(128,(3,3),padding='same',activation='relu', kernel_regularizer=regularizers.L2(0.01)))\n",
        "model4.add(MaxPool2D(2,2))\n",
        "model4.add(Conv2D(256,(3,3),padding='same',activation='relu', kernel_regularizer=regularizers.L2(0.01)))\n",
        "model4.add(MaxPool2D(2,2))\n",
        "model4.add(Conv2D(512,(3,3),padding='same',activation='relu', kernel_regularizer=regularizers.L2(0.01)))\n",
        "model4.add(MaxPool2D(2,2))\n",
        "model4.add(Conv2D(512,(3,3),padding='same',activation='relu', kernel_regularizer=regularizers.L2(0.01)))\n",
        "model4.add(MaxPool2D(2,2))\n",
        "model4.add(Flatten())\n",
        "model4.add(Dense(64,activation='relu', kernel_regularizer=regularizers.L2(0.01)))\n",
        "model4.add(Dropout(0.2))\n",
        "model4.add(Dense(32,activation='relu', kernel_regularizer=regularizers.L2(0.01)))\n",
        "model4.add(Dropout(0.2))\n",
        "model4.add(Dense(3,activation='linear'))\n",
        "model4.summary()"
      ]
    },
    {
      "cell_type": "code",
      "source": [
        "#Compiling the improved model i.e. Model 4\n",
        "\n",
        "model4.compile(loss='mse',metrics=['mse'],optimizer=optimizers.Adam(learning_rate=1e-4))\n",
        "history4= model4.fit(train_set_reg2,epochs=100,verbose=2,validation_data=val_set_reg2,batch_size=batch_size, callbacks=[es])"
      ],
      "metadata": {
        "id": "Cp_IIog_-ZXO",
        "colab": {
          "base_uri": "https://localhost:8080/"
        },
        "outputId": "c4405a43-4bd9-4fbc-da08-0decc9e1f6ca"
      },
      "execution_count": null,
      "outputs": [
        {
          "output_type": "stream",
          "name": "stdout",
          "text": [
            "Epoch 1/100\n",
            "81/81 - 14s - loss: 22826.6641 - mse: 22813.4727 - val_loss: 11507.8965 - val_mse: 11494.7842 - 14s/epoch - 171ms/step\n",
            "Epoch 2/100\n",
            "81/81 - 13s - loss: 13614.9297 - mse: 13601.9160 - val_loss: 11660.2822 - val_mse: 11647.3740 - 13s/epoch - 157ms/step\n",
            "Epoch 3/100\n",
            "81/81 - 13s - loss: 13510.3486 - mse: 13497.5166 - val_loss: 10886.9531 - val_mse: 10874.1982 - 13s/epoch - 156ms/step\n",
            "Epoch 4/100\n",
            "81/81 - 13s - loss: 13241.2939 - mse: 13228.6074 - val_loss: 11123.6562 - val_mse: 11111.0225 - 13s/epoch - 154ms/step\n",
            "Epoch 5/100\n",
            "81/81 - 13s - loss: 13224.7168 - mse: 13212.1328 - val_loss: 10920.6562 - val_mse: 10908.1162 - 13s/epoch - 155ms/step\n",
            "Epoch 6/100\n",
            "81/81 - 13s - loss: 12905.8135 - mse: 12893.3164 - val_loss: 10851.2461 - val_mse: 10838.7793 - 13s/epoch - 163ms/step\n",
            "Epoch 7/100\n",
            "81/81 - 13s - loss: 12946.5410 - mse: 12934.1152 - val_loss: 10947.9268 - val_mse: 10935.5371 - 13s/epoch - 155ms/step\n",
            "Epoch 8/100\n",
            "81/81 - 13s - loss: 13125.9795 - mse: 13113.6250 - val_loss: 10899.2012 - val_mse: 10886.8701 - 13s/epoch - 156ms/step\n",
            "Epoch 9/100\n",
            "81/81 - 13s - loss: 12853.7207 - mse: 12841.4209 - val_loss: 11019.8516 - val_mse: 11007.5850 - 13s/epoch - 156ms/step\n",
            "Epoch 10/100\n",
            "81/81 - 13s - loss: 12649.2939 - mse: 12637.0547 - val_loss: 11235.9990 - val_mse: 11223.7871 - 13s/epoch - 154ms/step\n",
            "Epoch 11/100\n",
            "81/81 - 13s - loss: 12676.3516 - mse: 12664.1611 - val_loss: 10857.9170 - val_mse: 10845.7451 - 13s/epoch - 155ms/step\n",
            "Epoch 12/100\n",
            "81/81 - 13s - loss: 12664.5557 - mse: 12652.4111 - val_loss: 11045.0596 - val_mse: 11032.9395 - 13s/epoch - 154ms/step\n",
            "Epoch 13/100\n",
            "81/81 - 13s - loss: 12673.4961 - mse: 12661.3955 - val_loss: 11011.9141 - val_mse: 10999.8369 - 13s/epoch - 156ms/step\n",
            "Epoch 14/100\n",
            "81/81 - 13s - loss: 12709.9844 - mse: 12697.9277 - val_loss: 10990.5996 - val_mse: 10978.5596 - 13s/epoch - 155ms/step\n",
            "Epoch 15/100\n",
            "81/81 - 13s - loss: 12486.7471 - mse: 12474.7236 - val_loss: 10855.2158 - val_mse: 10843.2100 - 13s/epoch - 163ms/step\n",
            "Epoch 16/100\n",
            "81/81 - 12s - loss: 12309.0391 - mse: 12297.0479 - val_loss: 11108.7031 - val_mse: 11096.7324 - 12s/epoch - 154ms/step\n",
            "Epoch 17/100\n",
            "81/81 - 12s - loss: 12430.1514 - mse: 12418.1943 - val_loss: 11667.8330 - val_mse: 11655.8965 - 12s/epoch - 154ms/step\n",
            "Epoch 18/100\n",
            "81/81 - 12s - loss: 12320.0264 - mse: 12308.0996 - val_loss: 11030.2988 - val_mse: 11018.3906 - 12s/epoch - 154ms/step\n",
            "Epoch 19/100\n",
            "81/81 - 13s - loss: 12335.6572 - mse: 12323.7607 - val_loss: 10911.2871 - val_mse: 10899.4062 - 13s/epoch - 155ms/step\n",
            "Epoch 20/100\n",
            "81/81 - 13s - loss: 12380.0840 - mse: 12368.2197 - val_loss: 10964.2715 - val_mse: 10952.4170 - 13s/epoch - 155ms/step\n",
            "Epoch 21/100\n",
            "81/81 - 13s - loss: 12293.9971 - mse: 12282.1562 - val_loss: 10991.1982 - val_mse: 10979.3662 - 13s/epoch - 156ms/step\n",
            "Epoch 22/100\n",
            "81/81 - 12s - loss: 12324.8408 - mse: 12313.0234 - val_loss: 11087.4238 - val_mse: 11075.6221 - 12s/epoch - 154ms/step\n",
            "Epoch 23/100\n",
            "81/81 - 12s - loss: 12452.2676 - mse: 12440.4707 - val_loss: 11028.4941 - val_mse: 11016.7090 - 12s/epoch - 153ms/step\n",
            "Epoch 24/100\n",
            "81/81 - 13s - loss: 12265.4326 - mse: 12253.6602 - val_loss: 10846.9229 - val_mse: 10835.1572 - 13s/epoch - 162ms/step\n",
            "Epoch 25/100\n",
            "81/81 - 12s - loss: 12311.7471 - mse: 12299.9941 - val_loss: 11084.2910 - val_mse: 11072.5479 - 12s/epoch - 154ms/step\n",
            "Epoch 26/100\n",
            "81/81 - 12s - loss: 12331.4834 - mse: 12319.7480 - val_loss: 11162.3330 - val_mse: 11150.6074 - 12s/epoch - 154ms/step\n",
            "Epoch 27/100\n",
            "81/81 - 12s - loss: 12252.0693 - mse: 12240.3506 - val_loss: 10908.9492 - val_mse: 10897.2422 - 12s/epoch - 154ms/step\n",
            "Epoch 28/100\n",
            "81/81 - 12s - loss: 12157.6924 - mse: 12145.9951 - val_loss: 11038.5547 - val_mse: 11026.8633 - 12s/epoch - 153ms/step\n",
            "Epoch 29/100\n",
            "81/81 - 12s - loss: 12226.4873 - mse: 12214.8027 - val_loss: 10897.3838 - val_mse: 10885.7070 - 12s/epoch - 154ms/step\n",
            "Epoch 30/100\n",
            "81/81 - 12s - loss: 12254.3086 - mse: 12242.6436 - val_loss: 10924.0781 - val_mse: 10912.4199 - 12s/epoch - 154ms/step\n",
            "Epoch 31/100\n",
            "81/81 - 13s - loss: 12337.3818 - mse: 12325.7285 - val_loss: 11097.5039 - val_mse: 11085.8574 - 13s/epoch - 154ms/step\n",
            "Epoch 32/100\n",
            "81/81 - 13s - loss: 12180.4883 - mse: 12168.8447 - val_loss: 11187.1846 - val_mse: 11175.5547 - 13s/epoch - 158ms/step\n",
            "Epoch 33/100\n",
            "81/81 - 12s - loss: 12260.3086 - mse: 12248.6816 - val_loss: 10982.2998 - val_mse: 10970.6768 - 12s/epoch - 154ms/step\n",
            "Epoch 34/100\n",
            "81/81 - 12s - loss: 12203.1445 - mse: 12191.5254 - val_loss: 11002.4678 - val_mse: 10990.8594 - 12s/epoch - 153ms/step\n",
            "Epoch 35/100\n",
            "81/81 - 13s - loss: 12107.9541 - mse: 12096.3506 - val_loss: 10852.1445 - val_mse: 10840.5430 - 13s/epoch - 155ms/step\n",
            "Epoch 36/100\n",
            "81/81 - 12s - loss: 12185.6162 - mse: 12174.0244 - val_loss: 11058.7090 - val_mse: 11047.1221 - 12s/epoch - 154ms/step\n",
            "Epoch 37/100\n",
            "81/81 - 12s - loss: 12184.9932 - mse: 12173.4102 - val_loss: 10847.2646 - val_mse: 10835.6816 - 12s/epoch - 154ms/step\n",
            "Epoch 38/100\n",
            "81/81 - 12s - loss: 12195.4258 - mse: 12183.8477 - val_loss: 11226.5752 - val_mse: 11215.0059 - 12s/epoch - 154ms/step\n",
            "Epoch 39/100\n",
            "81/81 - 12s - loss: 12151.3740 - mse: 12139.8027 - val_loss: 10894.5879 - val_mse: 10883.0244 - 12s/epoch - 153ms/step\n",
            "Epoch 40/100\n",
            "81/81 - 12s - loss: 12009.9736 - mse: 11998.4102 - val_loss: 10920.8340 - val_mse: 10909.2754 - 12s/epoch - 154ms/step\n",
            "Epoch 41/100\n",
            "81/81 - 13s - loss: 12136.2354 - mse: 12124.6807 - val_loss: 10855.8223 - val_mse: 10844.2676 - 13s/epoch - 161ms/step\n",
            "Epoch 42/100\n",
            "81/81 - 12s - loss: 12242.9365 - mse: 12231.3896 - val_loss: 11150.1143 - val_mse: 11138.5762 - 12s/epoch - 154ms/step\n",
            "Epoch 43/100\n",
            "81/81 - 12s - loss: 11989.1338 - mse: 11977.5957 - val_loss: 11168.3242 - val_mse: 11156.7920 - 12s/epoch - 154ms/step\n",
            "Epoch 44/100\n",
            "Restoring model weights from the end of the best epoch: 24.\n",
            "81/81 - 12s - loss: 12048.4639 - mse: 12036.9336 - val_loss: 10885.7686 - val_mse: 10874.2402 - 12s/epoch - 154ms/step\n",
            "Epoch 44: early stopping\n"
          ]
        }
      ]
    },
    {
      "cell_type": "code",
      "execution_count": null,
      "metadata": {
        "id": "w3FAF50-JelI"
      },
      "outputs": [],
      "source": [
        "#Plotting the performance of Improved Modeel i.e. Model 4\n",
        "fig, ax = plt.subplots(1,1,figsize=(7,5))\n",
        "ax.plot(history4.history['mse'])\n",
        "ax.plot(history4.history['val_mse'])\n",
        "ax.set_title('Model MSE')\n",
        "ax.set_ylabel('MSE')\n",
        "ax.set_xlabel('Epoch')\n",
        "ax.legend(['train', 'val'], loc='best')\n",
        "fig.suptitle('MSE Loss of Model4')\n",
        "plt.show()"
      ]
    },
    {
      "cell_type": "code",
      "source": [
        "#Predicting the orientation\n",
        "\n",
        "y_pred4=model4.predict(test_set_reg2)\n",
        "y_pred4=pd.DataFrame(y_pred4, columns=['a','b','c'])\n",
        "y_test4=df_test[['a','b','c']]"
      ],
      "metadata": {
        "id": "U_FXpk5k-tKT"
      },
      "execution_count": null,
      "outputs": []
    },
    {
      "cell_type": "code",
      "execution_count": null,
      "metadata": {
        "id": "H7_aUMPbKvVJ"
      },
      "outputs": [],
      "source": [
        "#Calculating the MSEs\n",
        "\n",
        "ypredB=pd.concat([y_pred3,y_pred4,y_pred3_features],axis=1)\n",
        "ytrueB=pd.concat([y_test3,y_test4,y_test3_features],axis=1)\n",
        "mseB=meansquareerror(ytrueB,ypredB)\n",
        "print('MSE for a,b,c calulation using regression model is')\n",
        "print(mseB)"
      ]
    },
    {
      "cell_type": "markdown",
      "source": [
        "### Picking up a randomsample from test set and making predictions"
      ],
      "metadata": {
        "id": "sTgu6Y7LxQbg"
      }
    },
    {
      "cell_type": "code",
      "source": [
        "test_set2 = datagen.flow_from_dataframe(\n",
        "        df_test,\n",
        "        x_col='img_path',\n",
        "        y_col=['L','W','H','a','b','c'],\n",
        "        target_size=(224, 224),\n",
        "        batch_size=64,\n",
        "        class_mode='raw',\n",
        "        shuffle = False)\n",
        "x_test = []\n",
        "y_test = []\n",
        "for i in range(11):\n",
        "  x, y = next(test_set2)\n",
        "  x_test.append(x)\n",
        "  y_test.append(y)\n",
        "x_test = np.concatenate([i for i in x_test])\n",
        "y_test = np.concatenate([i for i in y_test])\n",
        "\n",
        "print(x_test.shape)\n",
        "print(y_test.shape)"
      ],
      "metadata": {
        "id": "4wcT2rp3g-sQ"
      },
      "execution_count": null,
      "outputs": []
    },
    {
      "cell_type": "code",
      "execution_count": null,
      "metadata": {
        "id": "EYU_s5Xje2jn",
        "colab": {
          "base_uri": "https://localhost:8080/",
          "height": 286
        },
        "outputId": "5560646e-e67d-402f-ea98-d8ecdddd4864"
      },
      "outputs": [
        {
          "output_type": "execute_result",
          "data": {
            "text/plain": [
              "<matplotlib.image.AxesImage at 0x7fe070713880>"
            ]
          },
          "metadata": {},
          "execution_count": 38
        },
        {
          "output_type": "display_data",
          "data": {
            "text/plain": [
              "<Figure size 432x288 with 1 Axes>"
            ],
            "image/png": "[encoded data removed]"
          },
          "metadata": {
            "needs_background": "light"
          }
        }
      ],
      "source": [
        "randomindex=101\n",
        "x_test_randomsample=x_test[randomindex]\n",
        "plt.imshow(x_test_randomsample)"
      ]
    },
    {
      "cell_type": "markdown",
      "source": [
        "These are the actual values for the random samples"
      ],
      "metadata": {
        "id": "7optOz4GxXom"
      }
    },
    {
      "cell_type": "code",
      "execution_count": null,
      "metadata": {
        "id": "pYr2W8QOgLI9",
        "colab": {
          "base_uri": "https://localhost:8080/"
        },
        "outputId": "a8d30932-28bb-4cc1-d220-4b2bced7dbbe"
      },
      "outputs": [
        {
          "metadata": {
            "tags": null
          },
          "name": "stdout",
          "output_type": "stream",
          "text": [
            "True Values for random sample\n",
            "img_path           drive/MyDrive/synthetic_shape_data_all/sph_D04...\n",
            "shape                                                            sph\n",
            "L                                                                 40\n",
            "W                                                                 40\n",
            "H                                                                 40\n",
            "x                                                                259\n",
            "y                                                               1358\n",
            "z                                                                496\n",
            "a                                                                329\n",
            "b                                                                199\n",
            "c                                                                289\n",
            "d1                                                              1818\n",
            "d2                                                              2064\n",
            "d3                                                              2133\n",
            "d4                                                              2352\n",
            "predicted_shape                                                  sph\n",
            "Name: 101, dtype: object\n"
          ]
        }
      ],
      "source": [
        "y_true_randomsample=df_test.iloc[randomindex]\n",
        "print(\"True Values for random sample\")\n",
        "print(y_true_randomsample)"
      ]
    },
    {
      "cell_type": "markdown",
      "source": [
        "These are our predicted values"
      ],
      "metadata": {
        "id": "79kfOQvIxbEK"
      }
    },
    {
      "cell_type": "code",
      "execution_count": null,
      "metadata": {
        "id": "ux3X1qq2fHI9",
        "colab": {
          "base_uri": "https://localhost:8080/"
        },
        "outputId": "e4a98d8b-934e-401c-a856-80fda316e9d0"
      },
      "outputs": [
        {
          "output_type": "stream",
          "name": "stdout",
          "text": [
            "Predictions from Model B\n",
            "shape                 sph\n",
            "L               34.166553\n",
            "W               37.889671\n",
            "H               37.703247\n",
            "a              183.215271\n",
            "b              180.078888\n",
            "c              187.963531\n",
            "volume              25543\n",
            "surfacearea          4065\n",
            "Name: 101, dtype: object\n"
          ]
        }
      ],
      "source": [
        "y_pred_randomsample=ypredB.iloc[randomindex]\n",
        "print(\"Predictions from Model B\")\n",
        "print(y_pred_randomsample)\n"
      ]
    },
    {
      "cell_type": "markdown",
      "source": [
        "### Here we have calculated the accuracy for individual class for shape classification"
      ],
      "metadata": {
        "id": "ugPvUBg1xj69"
      }
    },
    {
      "cell_type": "markdown",
      "source": [
        "The column shape contains the actual shape and the column predicted_shape contains the shape predicted by VGG16 fine-tuned model in following dataset"
      ],
      "metadata": {
        "id": "4J0v9kF_xsVX"
      }
    },
    {
      "cell_type": "code",
      "source": [
        "df_test.head()"
      ],
      "metadata": {
        "colab": {
          "base_uri": "https://localhost:8080/",
          "height": 206
        },
        "id": "jT5vKhAedhkF",
        "outputId": "43ec6d72-94c1-422c-de85-9d79044844f0"
      },
      "execution_count": null,
      "outputs": [
        {
          "output_type": "execute_result",
          "data": {
            "text/plain": [
              "                                            img_path shape   L   W   H    x  \\\n",
              "0  drive/MyDrive/synthetic_shape_data_all/cyl_L02...   cyl  20  50  50  568   \n",
              "1  drive/MyDrive/synthetic_shape_data_all/sph_D01...   sph  12  12  12  334   \n",
              "2  drive/MyDrive/synthetic_shape_data_all/cyl_L04...   cyl  40  50  50  545   \n",
              "3  drive/MyDrive/synthetic_shape_data_all/sph_D00...   sph   8   8   8  293   \n",
              "4  drive/MyDrive/synthetic_shape_data_all/cyl_L04...   cyl  40  10  10  584   \n",
              "\n",
              "      y    z    a    b    c    d1    d2    d3    d4 predicted_shape  \n",
              "0  1245  737  114   68  348  2446  2005  2650  2217             cyl  \n",
              "1   705  109  272  262  271  1922  1596  1741  1340             sph  \n",
              "2  1052  680  278   44  241  2002  2445  2090  2534             cyl  \n",
              "3   608  220   69   82   75  1597  1903  1236  1623             sph  \n",
              "4   707  394  196   53   26  2382  1912  2262  1717             cyl  "
            ],
            "text/html": [
              "\n",
              "  <div id=\"df-6345208b-8051-417a-b4f4-641bf737d638\">\n",
              "    <div class=\"colab-df-container\">\n",
              "      <div>\n",
              "<style scoped>\n",
              "    .dataframe tbody tr th:only-of-type {\n",
              "        vertical-align: middle;\n",
              "    }\n",
              "\n",
              "    .dataframe tbody tr th {\n",
              "        vertical-align: top;\n",
              "    }\n",
              "\n",
              "    .dataframe thead th {\n",
              "        text-align: right;\n",
              "    }\n",
              "</style>\n",
              "<table border=\"1\" class=\"dataframe\">\n",
              "  <thead>\n",
              "    <tr style=\"text-align: right;\">\n",
              "      <th></th>\n",
              "      <th>img_path</th>\n",
              "      <th>shape</th>\n",
              "      <th>L</th>\n",
              "      <th>W</th>\n",
              "      <th>H</th>\n",
              "      <th>x</th>\n",
              "      <th>y</th>\n",
              "      <th>z</th>\n",
              "      <th>a</th>\n",
              "      <th>b</th>\n",
              "      <th>c</th>\n",
              "      <th>d1</th>\n",
              "      <th>d2</th>\n",
              "      <th>d3</th>\n",
              "      <th>d4</th>\n",
              "      <th>predicted_shape</th>\n",
              "    </tr>\n",
              "  </thead>\n",
              "  <tbody>\n",
              "    <tr>\n",
              "      <th>0</th>\n",
              "      <td>drive/MyDrive/synthetic_shape_data_all/cyl_L02...</td>\n",
              "      <td>cyl</td>\n",
              "      <td>20</td>\n",
              "      <td>50</td>\n",
              "      <td>50</td>\n",
              "      <td>568</td>\n",
              "      <td>1245</td>\n",
              "      <td>737</td>\n",
              "      <td>114</td>\n",
              "      <td>68</td>\n",
              "      <td>348</td>\n",
              "      <td>2446</td>\n",
              "      <td>2005</td>\n",
              "      <td>2650</td>\n",
              "      <td>2217</td>\n",
              "      <td>cyl</td>\n",
              "    </tr>\n",
              "    <tr>\n",
              "      <th>1</th>\n",
              "      <td>drive/MyDrive/synthetic_shape_data_all/sph_D01...</td>\n",
              "      <td>sph</td>\n",
              "      <td>12</td>\n",
              "      <td>12</td>\n",
              "      <td>12</td>\n",
              "      <td>334</td>\n",
              "      <td>705</td>\n",
              "      <td>109</td>\n",
              "      <td>272</td>\n",
              "      <td>262</td>\n",
              "      <td>271</td>\n",
              "      <td>1922</td>\n",
              "      <td>1596</td>\n",
              "      <td>1741</td>\n",
              "      <td>1340</td>\n",
              "      <td>sph</td>\n",
              "    </tr>\n",
              "    <tr>\n",
              "      <th>2</th>\n",
              "      <td>drive/MyDrive/synthetic_shape_data_all/cyl_L04...</td>\n",
              "      <td>cyl</td>\n",
              "      <td>40</td>\n",
              "      <td>50</td>\n",
              "      <td>50</td>\n",
              "      <td>545</td>\n",
              "      <td>1052</td>\n",
              "      <td>680</td>\n",
              "      <td>278</td>\n",
              "      <td>44</td>\n",
              "      <td>241</td>\n",
              "      <td>2002</td>\n",
              "      <td>2445</td>\n",
              "      <td>2090</td>\n",
              "      <td>2534</td>\n",
              "      <td>cyl</td>\n",
              "    </tr>\n",
              "    <tr>\n",
              "      <th>3</th>\n",
              "      <td>drive/MyDrive/synthetic_shape_data_all/sph_D00...</td>\n",
              "      <td>sph</td>\n",
              "      <td>8</td>\n",
              "      <td>8</td>\n",
              "      <td>8</td>\n",
              "      <td>293</td>\n",
              "      <td>608</td>\n",
              "      <td>220</td>\n",
              "      <td>69</td>\n",
              "      <td>82</td>\n",
              "      <td>75</td>\n",
              "      <td>1597</td>\n",
              "      <td>1903</td>\n",
              "      <td>1236</td>\n",
              "      <td>1623</td>\n",
              "      <td>sph</td>\n",
              "    </tr>\n",
              "    <tr>\n",
              "      <th>4</th>\n",
              "      <td>drive/MyDrive/synthetic_shape_data_all/cyl_L04...</td>\n",
              "      <td>cyl</td>\n",
              "      <td>40</td>\n",
              "      <td>10</td>\n",
              "      <td>10</td>\n",
              "      <td>584</td>\n",
              "      <td>707</td>\n",
              "      <td>394</td>\n",
              "      <td>196</td>\n",
              "      <td>53</td>\n",
              "      <td>26</td>\n",
              "      <td>2382</td>\n",
              "      <td>1912</td>\n",
              "      <td>2262</td>\n",
              "      <td>1717</td>\n",
              "      <td>cyl</td>\n",
              "    </tr>\n",
              "  </tbody>\n",
              "</table>\n",
              "</div>\n",
              "      <button class=\"colab-df-convert\" onclick=\"convertToInteractive('df-6345208b-8051-417a-b4f4-641bf737d638')\"\n",
              "              title=\"Convert this dataframe to an interactive table.\"\n",
              "              style=\"display:none;\">\n",
              "        \n",
              "  <svg xmlns=\"http://www.w3.org/2000/svg\" height=\"24px\"viewBox=\"0 0 24 24\"\n",
              "       width=\"24px\">\n",
              "    <path d=\"M0 0h24v24H0V0z\" fill=\"none\"/>\n",
              "    <path d=\"M18.56 5.44l.94 2.06.94-2.06 2.06-.94-2.06-.94-.94-2.06-.94 2.06-2.06.94zm-11 1L8.5 8.5l.94-2.06 2.06-.94-2.06-.94L8.5 2.5l-.94 2.06-2.06.94zm10 10l.94 2.06.94-2.06 2.06-.94-2.06-.94-.94-2.06-.94 2.06-2.06.94z\"/><path d=\"M17.41 7.96l-1.37-1.37c-.4-.4-.92-.59-1.43-.59-.52 0-1.04.2-1.43.59L10.3 9.45l-7.72 7.72c-.78.78-.78 2.05 0 2.83L4 21.41c.39.39.9.59 1.41.59.51 0 1.02-.2 1.41-.59l7.78-7.78 2.81-2.81c.8-.78.8-2.07 0-2.86zM5.41 20L4 18.59l7.72-7.72 1.47 1.35L5.41 20z\"/>\n",
              "  </svg>\n",
              "      </button>\n",
              "      \n",
              "  <style>\n",
              "    .colab-df-container {\n",
              "      display:flex;\n",
              "      flex-wrap:wrap;\n",
              "      gap: 12px;\n",
              "    }\n",
              "\n",
              "    .colab-df-convert {\n",
              "      background-color: #E8F0FE;\n",
              "      border: none;\n",
              "      border-radius: 50%;\n",
              "      cursor: pointer;\n",
              "      display: none;\n",
              "      fill: #1967D2;\n",
              "      height: 32px;\n",
              "      padding: 0 0 0 0;\n",
              "      width: 32px;\n",
              "    }\n",
              "\n",
              "    .colab-df-convert:hover {\n",
              "      background-color: #E2EBFA;\n",
              "      box-shadow: 0px 1px 2px rgba(60, 64, 67, 0.3), 0px 1px 3px 1px rgba(60, 64, 67, 0.15);\n",
              "      fill: #174EA6;\n",
              "    }\n",
              "\n",
              "    [theme=dark] .colab-df-convert {\n",
              "      background-color: #3B4455;\n",
              "      fill: #D2E3FC;\n",
              "    }\n",
              "\n",
              "    [theme=dark] .colab-df-convert:hover {\n",
              "      background-color: #434B5C;\n",
              "      box-shadow: 0px 1px 3px 1px rgba(0, 0, 0, 0.15);\n",
              "      filter: drop-shadow(0px 1px 2px rgba(0, 0, 0, 0.3));\n",
              "      fill: #FFFFFF;\n",
              "    }\n",
              "  </style>\n",
              "\n",
              "      <script>\n",
              "        const buttonEl =\n",
              "          document.querySelector('#df-6345208b-8051-417a-b4f4-641bf737d638 button.colab-df-convert');\n",
              "        buttonEl.style.display =\n",
              "          google.colab.kernel.accessAllowed ? 'block' : 'none';\n",
              "\n",
              "        async function convertToInteractive(key) {\n",
              "          const element = document.querySelector('#df-6345208b-8051-417a-b4f4-641bf737d638');\n",
              "          const dataTable =\n",
              "            await google.colab.kernel.invokeFunction('convertToInteractive',\n",
              "                                                     [key], {});\n",
              "          if (!dataTable) return;\n",
              "\n",
              "          const docLinkHtml = 'Like what you see? Visit the ' +\n",
              "            '<a target=\"_blank\" href=https://colab.research.google.com/notebooks/data_table.ipynb>data table notebook</a>'\n",
              "            + ' to learn more about interactive tables.';\n",
              "          element.innerHTML = '';\n",
              "          dataTable['output_type'] = 'display_data';\n",
              "          await google.colab.output.renderOutput(dataTable, element);\n",
              "          const docLink = document.createElement('div');\n",
              "          docLink.innerHTML = docLinkHtml;\n",
              "          element.appendChild(docLink);\n",
              "        }\n",
              "      </script>\n",
              "    </div>\n",
              "  </div>\n",
              "  "
            ]
          },
          "metadata": {},
          "execution_count": 41
        }
      ]
    },
    {
      "cell_type": "code",
      "source": [
        "from sklearn.metrics import precision_recall_fscore_support"
      ],
      "metadata": {
        "id": "tP0G6SNyi17u"
      },
      "execution_count": null,
      "outputs": []
    },
    {
      "cell_type": "code",
      "source": [
        "precision_recall_fscore_support(df_test['shape'], df_test['predicted_shape'])"
      ],
      "metadata": {
        "colab": {
          "base_uri": "https://localhost:8080/"
        },
        "id": "dQLqvj95jFbs",
        "outputId": "a848fac4-6d6b-4ed2-b7ae-b36359c91075"
      },
      "execution_count": null,
      "outputs": [
        {
          "output_type": "execute_result",
          "data": {
            "text/plain": [
              "(array([0.94923858, 1.        , 0.93203883]),\n",
              " array([0.935     , 0.972     , 0.97959184]),\n",
              " array([0.94206549, 0.98580122, 0.95522388]),\n",
              " array([200, 250, 196]))"
            ]
          },
          "metadata": {},
          "execution_count": 43
        }
      ]
    },
    {
      "cell_type": "code",
      "source": [
        "df_test_cyl=df_test[df_test['shape']=='cyl']\n",
        "df_test_cub=df_test[df_test['shape']=='cub']\n",
        "df_test_sph=df_test[df_test['shape']=='sph']"
      ],
      "metadata": {
        "id": "7Mnay84rjK0W"
      },
      "execution_count": null,
      "outputs": []
    },
    {
      "cell_type": "code",
      "source": [
        "from sklearn.metrics import accuracy_score\n",
        "acc_cyl = accuracy_score(df_test_cyl['shape'], df_test_cyl['predicted_shape'])\n",
        "acc_cub = accuracy_score(df_test_cub['shape'], df_test_cub['predicted_shape'])\n",
        "acc_sph = accuracy_score(df_test_sph['shape'], df_test_sph['predicted_shape'])\n",
        "print(f'Accuracy score for cylinder class is  {acc_cyl:0.2f}')\n",
        "print(f'Accuracy score for cube class is  {acc_cub:0.2f}')\n",
        "print(f'Accuracy score for sphere class is  {acc_sph:0.2f}')\n"
      ],
      "metadata": {
        "colab": {
          "base_uri": "https://localhost:8080/"
        },
        "id": "GBQpl4Y_jh2R",
        "outputId": "99215d87-5c16-43db-88be-f42a269de572"
      },
      "execution_count": null,
      "outputs": [
        {
          "metadata": {
            "tags": null
          },
          "name": "stdout",
          "output_type": "stream",
          "text": [
            "Accuracy score for cylinder class is  0.97\n",
            "Accuracy score for cube class is  0.94\n",
            "Accuracy score for sphere class is  0.98\n"
          ]
        }
      ]
    },
    {
      "cell_type": "markdown",
      "source": [
        "We see that accuracy is most for the sphere class, then for cylinder and least for cube"
      ],
      "metadata": {
        "id": "JD3AaAb-x5GM"
      }
    },
    {
      "cell_type": "markdown",
      "source": [
        "### Bar plots for mse of Volume and Surface area from L, W, H predictions\""
      ],
      "metadata": {
        "id": "88n95pMryBOe"
      }
    },
    {
      "cell_type": "code",
      "source": [
        "# plotting mse of volume of all the Model in form of bar chart\n",
        "fig = plt.figure(figsize=(7,5))\n",
        "plt.bar(['ModelA','ModelB'],[mseA['volume'],mseB['volume']])\n",
        "plt.xlabel('Model names')\n",
        "plt.ylabel('MSE for volume predicion')\n",
        "plt.title('Bar graph for volume prediction from the different models')"
      ],
      "metadata": {
        "colab": {
          "base_uri": "https://localhost:8080/",
          "height": 367
        },
        "id": "wzxZxin7j-IX",
        "outputId": "8c5ae904-5122-4e62-9330-6cd97f712fdf"
      },
      "execution_count": null,
      "outputs": [
        {
          "data": {
            "text/plain": [
              "Text(0.5, 1.0, 'Bar graph for volume prediction from the different models')"
            ]
          },
          "execution_count": 46,
          "metadata": {},
          "output_type": "execute_result"
        },
        {
          "output_type": "display_data",
          "data": {
            "text/plain": [
              "<Figure size 504x360 with 1 Axes>"
            ],
            "image/png": "[encoded data removed]"
          },
          "metadata": {
            "needs_background": "light"
          }
        }
      ]
    },
    {
      "cell_type": "code",
      "source": [
        "# plotting mse of surface area of all the Model in form of bar chart\n",
        "fig = plt.figure(figsize=(7,5))\n",
        "plt.bar(['ModelA','ModelB'],[mseA['surfacearea'],mseB['surfacearea']])\n",
        "plt.xlabel('Model names')\n",
        "plt.ylabel('MSE for Surface Area predicion')\n",
        "plt.title('Bar graph for surface area prediction from the different models')"
      ],
      "metadata": {
        "colab": {
          "base_uri": "https://localhost:8080/",
          "height": 367
        },
        "id": "8axxniCSlQ_F",
        "outputId": "db7a5b90-cf53-4cb5-8041-e8ecd8d976f8"
      },
      "execution_count": null,
      "outputs": [
        {
          "data": {
            "text/plain": [
              "Text(0.5, 1.0, 'Bar graph for surface area prediction from the different models')"
            ]
          },
          "execution_count": 47,
          "metadata": {},
          "output_type": "execute_result"
        },
        {
          "output_type": "display_data",
          "data": {
            "text/plain": [
              "<Figure size 504x360 with 1 Axes>"
            ],
            "image/png": "[encoded data removed]"
          },
          "metadata": {
            "needs_background": "light"
          }
        }
      ]
    },
    {
      "cell_type": "markdown",
      "source": [
        "### Checking predictions for one of sphere, cube and cylinder images"
      ],
      "metadata": {
        "id": "tje644v_oRar"
      }
    },
    {
      "cell_type": "code",
      "source": [
        "index_sph = df_test[df_test['shape']=='sph'].index[0]\n",
        "index_cub = df_test[df_test['shape']=='cub'].index[0]\n",
        "index_cyl = df_test[df_test['shape']=='cyl'].index[0]\n",
        "print(index_sph, index_cub, index_cyl)"
      ],
      "metadata": {
        "colab": {
          "base_uri": "https://localhost:8080/"
        },
        "id": "YyrjY7egmYAJ",
        "outputId": "ce1830e8-8ebb-4ef6-ff5d-f548ab0a2d3c"
      },
      "execution_count": null,
      "outputs": [
        {
          "metadata": {
            "tags": null
          },
          "name": "stdout",
          "output_type": "stream",
          "text": [
            "1 8 0\n"
          ]
        }
      ]
    },
    {
      "cell_type": "code",
      "source": [
        "ytrueB.iloc[[index_sph, index_cub, index_cyl]]"
      ],
      "metadata": {
        "colab": {
          "base_uri": "https://localhost:8080/",
          "height": 143
        },
        "id": "S_TJhmCimo63",
        "outputId": "7cd0f669-e80e-4fb0-d077-3358ef007f50"
      },
      "execution_count": null,
      "outputs": [
        {
          "output_type": "execute_result",
          "data": {
            "text/plain": [
              "  shape   L   W   H    a    b    c  volume  surfacearea\n",
              "1   sph  12  12  12  272  262  271     904          452\n",
              "8   cub   3   3   3   22   83   93      27           54\n",
              "0   cyl  20  50  50  114   68  348  157000        31400"
            ],
            "text/html": [
              "\n",
              "  <div id=\"df-81e28d71-458b-4342-bc86-272a8464a8b7\">\n",
              "    <div class=\"colab-df-container\">\n",
              "      <div>\n",
              "<style scoped>\n",
              "    .dataframe tbody tr th:only-of-type {\n",
              "        vertical-align: middle;\n",
              "    }\n",
              "\n",
              "    .dataframe tbody tr th {\n",
              "        vertical-align: top;\n",
              "    }\n",
              "\n",
              "    .dataframe thead th {\n",
              "        text-align: right;\n",
              "    }\n",
              "</style>\n",
              "<table border=\"1\" class=\"dataframe\">\n",
              "  <thead>\n",
              "    <tr style=\"text-align: right;\">\n",
              "      <th></th>\n",
              "      <th>shape</th>\n",
              "      <th>L</th>\n",
              "      <th>W</th>\n",
              "      <th>H</th>\n",
              "      <th>a</th>\n",
              "      <th>b</th>\n",
              "      <th>c</th>\n",
              "      <th>volume</th>\n",
              "      <th>surfacearea</th>\n",
              "    </tr>\n",
              "  </thead>\n",
              "  <tbody>\n",
              "    <tr>\n",
              "      <th>1</th>\n",
              "      <td>sph</td>\n",
              "      <td>12</td>\n",
              "      <td>12</td>\n",
              "      <td>12</td>\n",
              "      <td>272</td>\n",
              "      <td>262</td>\n",
              "      <td>271</td>\n",
              "      <td>904</td>\n",
              "      <td>452</td>\n",
              "    </tr>\n",
              "    <tr>\n",
              "      <th>8</th>\n",
              "      <td>cub</td>\n",
              "      <td>3</td>\n",
              "      <td>3</td>\n",
              "      <td>3</td>\n",
              "      <td>22</td>\n",
              "      <td>83</td>\n",
              "      <td>93</td>\n",
              "      <td>27</td>\n",
              "      <td>54</td>\n",
              "    </tr>\n",
              "    <tr>\n",
              "      <th>0</th>\n",
              "      <td>cyl</td>\n",
              "      <td>20</td>\n",
              "      <td>50</td>\n",
              "      <td>50</td>\n",
              "      <td>114</td>\n",
              "      <td>68</td>\n",
              "      <td>348</td>\n",
              "      <td>157000</td>\n",
              "      <td>31400</td>\n",
              "    </tr>\n",
              "  </tbody>\n",
              "</table>\n",
              "</div>\n",
              "      <button class=\"colab-df-convert\" onclick=\"convertToInteractive('df-81e28d71-458b-4342-bc86-272a8464a8b7')\"\n",
              "              title=\"Convert this dataframe to an interactive table.\"\n",
              "              style=\"display:none;\">\n",
              "        \n",
              "  <svg xmlns=\"http://www.w3.org/2000/svg\" height=\"24px\"viewBox=\"0 0 24 24\"\n",
              "       width=\"24px\">\n",
              "    <path d=\"M0 0h24v24H0V0z\" fill=\"none\"/>\n",
              "    <path d=\"M18.56 5.44l.94 2.06.94-2.06 2.06-.94-2.06-.94-.94-2.06-.94 2.06-2.06.94zm-11 1L8.5 8.5l.94-2.06 2.06-.94-2.06-.94L8.5 2.5l-.94 2.06-2.06.94zm10 10l.94 2.06.94-2.06 2.06-.94-2.06-.94-.94-2.06-.94 2.06-2.06.94z\"/><path d=\"M17.41 7.96l-1.37-1.37c-.4-.4-.92-.59-1.43-.59-.52 0-1.04.2-1.43.59L10.3 9.45l-7.72 7.72c-.78.78-.78 2.05 0 2.83L4 21.41c.39.39.9.59 1.41.59.51 0 1.02-.2 1.41-.59l7.78-7.78 2.81-2.81c.8-.78.8-2.07 0-2.86zM5.41 20L4 18.59l7.72-7.72 1.47 1.35L5.41 20z\"/>\n",
              "  </svg>\n",
              "      </button>\n",
              "      \n",
              "  <style>\n",
              "    .colab-df-container {\n",
              "      display:flex;\n",
              "      flex-wrap:wrap;\n",
              "      gap: 12px;\n",
              "    }\n",
              "\n",
              "    .colab-df-convert {\n",
              "      background-color: #E8F0FE;\n",
              "      border: none;\n",
              "      border-radius: 50%;\n",
              "      cursor: pointer;\n",
              "      display: none;\n",
              "      fill: #1967D2;\n",
              "      height: 32px;\n",
              "      padding: 0 0 0 0;\n",
              "      width: 32px;\n",
              "    }\n",
              "\n",
              "    .colab-df-convert:hover {\n",
              "      background-color: #E2EBFA;\n",
              "      box-shadow: 0px 1px 2px rgba(60, 64, 67, 0.3), 0px 1px 3px 1px rgba(60, 64, 67, 0.15);\n",
              "      fill: #174EA6;\n",
              "    }\n",
              "\n",
              "    [theme=dark] .colab-df-convert {\n",
              "      background-color: #3B4455;\n",
              "      fill: #D2E3FC;\n",
              "    }\n",
              "\n",
              "    [theme=dark] .colab-df-convert:hover {\n",
              "      background-color: #434B5C;\n",
              "      box-shadow: 0px 1px 3px 1px rgba(0, 0, 0, 0.15);\n",
              "      filter: drop-shadow(0px 1px 2px rgba(0, 0, 0, 0.3));\n",
              "      fill: #FFFFFF;\n",
              "    }\n",
              "  </style>\n",
              "\n",
              "      <script>\n",
              "        const buttonEl =\n",
              "          document.querySelector('#df-81e28d71-458b-4342-bc86-272a8464a8b7 button.colab-df-convert');\n",
              "        buttonEl.style.display =\n",
              "          google.colab.kernel.accessAllowed ? 'block' : 'none';\n",
              "\n",
              "        async function convertToInteractive(key) {\n",
              "          const element = document.querySelector('#df-81e28d71-458b-4342-bc86-272a8464a8b7');\n",
              "          const dataTable =\n",
              "            await google.colab.kernel.invokeFunction('convertToInteractive',\n",
              "                                                     [key], {});\n",
              "          if (!dataTable) return;\n",
              "\n",
              "          const docLinkHtml = 'Like what you see? Visit the ' +\n",
              "            '<a target=\"_blank\" href=https://colab.research.google.com/notebooks/data_table.ipynb>data table notebook</a>'\n",
              "            + ' to learn more about interactive tables.';\n",
              "          element.innerHTML = '';\n",
              "          dataTable['output_type'] = 'display_data';\n",
              "          await google.colab.output.renderOutput(dataTable, element);\n",
              "          const docLink = document.createElement('div');\n",
              "          docLink.innerHTML = docLinkHtml;\n",
              "          element.appendChild(docLink);\n",
              "        }\n",
              "      </script>\n",
              "    </div>\n",
              "  </div>\n",
              "  "
            ]
          },
          "metadata": {},
          "execution_count": 49
        }
      ]
    },
    {
      "cell_type": "code",
      "source": [
        "ypredB.iloc[[index_sph, index_cub, index_cyl]].round(2)"
      ],
      "metadata": {
        "colab": {
          "base_uri": "https://localhost:8080/",
          "height": 143
        },
        "id": "rHbUNBIdm2Ka",
        "outputId": "1e856095-b005-481c-c13b-3420e143261d"
      },
      "execution_count": null,
      "outputs": [
        {
          "output_type": "execute_result",
          "data": {
            "text/plain": [
              "  shape      L          W          H           a           b           c  \\\n",
              "1   sph  11.93  12.940000  12.770000  175.919998  173.309998  180.710007   \n",
              "8   sph   3.27   3.290000   3.330000  169.699997  167.210007  174.309998   \n",
              "0   cyl  15.93  37.950001  37.009998  185.649994  182.279999  190.389999   \n",
              "\n",
              "   volume  surfacearea  \n",
              "1    1032          485  \n",
              "8      19           34  \n",
              "0   70235        17420  "
            ],
            "text/html": [
              "\n",
              "  <div id=\"df-99b8dafa-d41c-4801-af2c-d2c6abb71a60\">\n",
              "    <div class=\"colab-df-container\">\n",
              "      <div>\n",
              "<style scoped>\n",
              "    .dataframe tbody tr th:only-of-type {\n",
              "        vertical-align: middle;\n",
              "    }\n",
              "\n",
              "    .dataframe tbody tr th {\n",
              "        vertical-align: top;\n",
              "    }\n",
              "\n",
              "    .dataframe thead th {\n",
              "        text-align: right;\n",
              "    }\n",
              "</style>\n",
              "<table border=\"1\" class=\"dataframe\">\n",
              "  <thead>\n",
              "    <tr style=\"text-align: right;\">\n",
              "      <th></th>\n",
              "      <th>shape</th>\n",
              "      <th>L</th>\n",
              "      <th>W</th>\n",
              "      <th>H</th>\n",
              "      <th>a</th>\n",
              "      <th>b</th>\n",
              "      <th>c</th>\n",
              "      <th>volume</th>\n",
              "      <th>surfacearea</th>\n",
              "    </tr>\n",
              "  </thead>\n",
              "  <tbody>\n",
              "    <tr>\n",
              "      <th>1</th>\n",
              "      <td>sph</td>\n",
              "      <td>11.93</td>\n",
              "      <td>12.940000</td>\n",
              "      <td>12.770000</td>\n",
              "      <td>175.919998</td>\n",
              "      <td>173.309998</td>\n",
              "      <td>180.710007</td>\n",
              "      <td>1032</td>\n",
              "      <td>485</td>\n",
              "    </tr>\n",
              "    <tr>\n",
              "      <th>8</th>\n",
              "      <td>sph</td>\n",
              "      <td>3.27</td>\n",
              "      <td>3.290000</td>\n",
              "      <td>3.330000</td>\n",
              "      <td>169.699997</td>\n",
              "      <td>167.210007</td>\n",
              "      <td>174.309998</td>\n",
              "      <td>19</td>\n",
              "      <td>34</td>\n",
              "    </tr>\n",
              "    <tr>\n",
              "      <th>0</th>\n",
              "      <td>cyl</td>\n",
              "      <td>15.93</td>\n",
              "      <td>37.950001</td>\n",
              "      <td>37.009998</td>\n",
              "      <td>185.649994</td>\n",
              "      <td>182.279999</td>\n",
              "      <td>190.389999</td>\n",
              "      <td>70235</td>\n",
              "      <td>17420</td>\n",
              "    </tr>\n",
              "  </tbody>\n",
              "</table>\n",
              "</div>\n",
              "      <button class=\"colab-df-convert\" onclick=\"convertToInteractive('df-99b8dafa-d41c-4801-af2c-d2c6abb71a60')\"\n",
              "              title=\"Convert this dataframe to an interactive table.\"\n",
              "              style=\"display:none;\">\n",
              "        \n",
              "  <svg xmlns=\"http://www.w3.org/2000/svg\" height=\"24px\"viewBox=\"0 0 24 24\"\n",
              "       width=\"24px\">\n",
              "    <path d=\"M0 0h24v24H0V0z\" fill=\"none\"/>\n",
              "    <path d=\"M18.56 5.44l.94 2.06.94-2.06 2.06-.94-2.06-.94-.94-2.06-.94 2.06-2.06.94zm-11 1L8.5 8.5l.94-2.06 2.06-.94-2.06-.94L8.5 2.5l-.94 2.06-2.06.94zm10 10l.94 2.06.94-2.06 2.06-.94-2.06-.94-.94-2.06-.94 2.06-2.06.94z\"/><path d=\"M17.41 7.96l-1.37-1.37c-.4-.4-.92-.59-1.43-.59-.52 0-1.04.2-1.43.59L10.3 9.45l-7.72 7.72c-.78.78-.78 2.05 0 2.83L4 21.41c.39.39.9.59 1.41.59.51 0 1.02-.2 1.41-.59l7.78-7.78 2.81-2.81c.8-.78.8-2.07 0-2.86zM5.41 20L4 18.59l7.72-7.72 1.47 1.35L5.41 20z\"/>\n",
              "  </svg>\n",
              "      </button>\n",
              "      \n",
              "  <style>\n",
              "    .colab-df-container {\n",
              "      display:flex;\n",
              "      flex-wrap:wrap;\n",
              "      gap: 12px;\n",
              "    }\n",
              "\n",
              "    .colab-df-convert {\n",
              "      background-color: #E8F0FE;\n",
              "      border: none;\n",
              "      border-radius: 50%;\n",
              "      cursor: pointer;\n",
              "      display: none;\n",
              "      fill: #1967D2;\n",
              "      height: 32px;\n",
              "      padding: 0 0 0 0;\n",
              "      width: 32px;\n",
              "    }\n",
              "\n",
              "    .colab-df-convert:hover {\n",
              "      background-color: #E2EBFA;\n",
              "      box-shadow: 0px 1px 2px rgba(60, 64, 67, 0.3), 0px 1px 3px 1px rgba(60, 64, 67, 0.15);\n",
              "      fill: #174EA6;\n",
              "    }\n",
              "\n",
              "    [theme=dark] .colab-df-convert {\n",
              "      background-color: #3B4455;\n",
              "      fill: #D2E3FC;\n",
              "    }\n",
              "\n",
              "    [theme=dark] .colab-df-convert:hover {\n",
              "      background-color: #434B5C;\n",
              "      box-shadow: 0px 1px 3px 1px rgba(0, 0, 0, 0.15);\n",
              "      filter: drop-shadow(0px 1px 2px rgba(0, 0, 0, 0.3));\n",
              "      fill: #FFFFFF;\n",
              "    }\n",
              "  </style>\n",
              "\n",
              "      <script>\n",
              "        const buttonEl =\n",
              "          document.querySelector('#df-99b8dafa-d41c-4801-af2c-d2c6abb71a60 button.colab-df-convert');\n",
              "        buttonEl.style.display =\n",
              "          google.colab.kernel.accessAllowed ? 'block' : 'none';\n",
              "\n",
              "        async function convertToInteractive(key) {\n",
              "          const element = document.querySelector('#df-99b8dafa-d41c-4801-af2c-d2c6abb71a60');\n",
              "          const dataTable =\n",
              "            await google.colab.kernel.invokeFunction('convertToInteractive',\n",
              "                                                     [key], {});\n",
              "          if (!dataTable) return;\n",
              "\n",
              "          const docLinkHtml = 'Like what you see? Visit the ' +\n",
              "            '<a target=\"_blank\" href=https://colab.research.google.com/notebooks/data_table.ipynb>data table notebook</a>'\n",
              "            + ' to learn more about interactive tables.';\n",
              "          element.innerHTML = '';\n",
              "          dataTable['output_type'] = 'display_data';\n",
              "          await google.colab.output.renderOutput(dataTable, element);\n",
              "          const docLink = document.createElement('div');\n",
              "          docLink.innerHTML = docLinkHtml;\n",
              "          element.appendChild(docLink);\n",
              "        }\n",
              "      </script>\n",
              "    </div>\n",
              "  </div>\n",
              "  "
            ]
          },
          "metadata": {},
          "execution_count": 50
        }
      ]
    },
    {
      "cell_type": "markdown",
      "source": [
        "### Summarizing the results of our best model for L,W,H and a,b,c predictions"
      ],
      "metadata": {
        "id": "cC_uzBPmyU7t"
      }
    },
    {
      "cell_type": "code",
      "source": [
        "# Our best model was modelB\n",
        "print(f\"MSE on test set for Length prediction with out best model was {mseB['L']:0.2f}\")\n",
        "print(f\"MSE on test set for Width prediction with out best model was {mseB['W']:0.2f}\")\n",
        "print(f\"MSE on test set for Height prediction with out best model was {mseB['H']:0.2f}\")\n",
        "print(f\"MSE on test set for Orientation a prediction with out best model was {mseB['a']:0.2f}\")\n",
        "print(f\"MSE on test set for Orientation b prediction with out best model was {mseB['b']:0.2f}\")\n",
        "print(f\"MSE on test set for Orientation c prediction with out best model was {mseB['c']:0.2f}\")"
      ],
      "metadata": {
        "colab": {
          "base_uri": "https://localhost:8080/"
        },
        "id": "7WDjAOWdsT9E",
        "outputId": "ace93194-5ea6-468b-a9e7-ea6e3c08e964"
      },
      "execution_count": null,
      "outputs": [
        {
          "output_type": "stream",
          "name": "stdout",
          "text": [
            "MSE on test set for Length prediction with out best model was 30.76\n",
            "MSE on test set for Width prediction with out best model was 19.01\n",
            "MSE on test set for Height prediction with out best model was 19.72\n",
            "MSE on test set for Orientation a prediction with out best model was 11358.69\n",
            "MSE on test set for Orientation b prediction with out best model was 10238.18\n",
            "MSE on test set for Orientation c prediction with out best model was 10795.56\n"
          ]
        }
      ]
    },
    {
      "cell_type": "markdown",
      "source": [
        "**NOTE : MSE is not the most appropriate loss function here, A custom loss function would have been more relevant. So the high MSE is not because the model didn't learn, It is only due to choice of a sub-optimal loss function.Will update that too in the future commits.**"
      ],
      "metadata": {
        "id": "17IExGxP5uXH"
      }
    }
  ],
  "metadata": {
    "accelerator": "GPU",
    "colab": {
      "provenance": []
    },
    "gpuClass": "premium",
    "kernelspec": {
      "display_name": "Python 3 (ipykernel)",
      "language": "python",
      "name": "python3"
    },
    "language_info": {
      "codemirror_mode": {
        "name": "ipython",
        "version": 3
      },
      "file_extension": ".py",
      "mimetype": "text/x-python",
      "name": "python",
      "nbconvert_exporter": "python",
      "pygments_lexer": "ipython3",
      "version": "3.9.13"
    }
  },
  "nbformat": 4,
  "nbformat_minor": 0
}